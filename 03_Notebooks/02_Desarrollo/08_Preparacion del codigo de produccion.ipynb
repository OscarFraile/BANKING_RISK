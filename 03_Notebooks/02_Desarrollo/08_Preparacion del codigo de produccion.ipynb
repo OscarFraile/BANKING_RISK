{
 "cells": [
  {
   "cell_type": "markdown",
   "id": "82712f2b",
   "metadata": {},
   "source": [
    "## IMPORTAR LAS LIBRERIAS"
   ]
  },
  {
   "cell_type": "markdown",
   "id": "1cdf8db0",
   "metadata": {},
   "source": [
    "Actualizar a las que se usen finalmente en tu proyecto."
   ]
  },
  {
   "cell_type": "code",
   "execution_count": 1,
   "id": "f0b917d9",
   "metadata": {},
   "outputs": [],
   "source": [
    "import os\n",
    "import numpy as np\n",
    "import pandas as pd\n",
    "import pickle  \n",
    "\n",
    "#Automcompletar rápido\n",
    "%config IPCompleter.greedy=True\n",
    "\n",
    "#Desactivar la notación científica\n",
    "pd.options.display.float_format = '{:.2f}'.format\n",
    "\n",
    "#Desactivar los warnings\n",
    "import warnings\n",
    "warnings.filterwarnings(\"ignore\")\n",
    "\n",
    "#Mostrar el máximo de filas posibles de una tabla\n",
    "pd.set_option('display.max_rows', 100) #Número de filas que deben verse. None = Máx\n",
    "\n",
    "#Mostrar mas caracteres de las columnas. Se usa cuando se corta el texto\n",
    "pd.set_option('display.max_colwidth', None) #Número de caractres que deben verse. None = Máx\n",
    "\n",
    "#Representación visual de un pipeline\n",
    "from sklearn import set_config\n",
    "set_config(display = 'diagram') #diagram/text \n",
    "\n",
    "#Transformación de variables\n",
    "from janitor import clean_names\n",
    "from sklearn.pipeline import Pipeline\n",
    "from sklearn.preprocessing import FunctionTransformer\n",
    "from sklearn.compose import make_column_transformer\n",
    "from sklearn.pipeline import make_pipeline\n",
    "from sklearn.model_selection import GridSearchCV\n",
    "from sklearn.model_selection import RandomizedSearchCV\n",
    "\n",
    "from sklearn.preprocessing import OneHotEncoder\n",
    "from sklearn.preprocessing import OrdinalEncoder\n",
    "from sklearn.preprocessing import Binarizer\n",
    "from sklearn.preprocessing import MinMaxScaler\n",
    "\n",
    "#Modelos ML: CLASIFICACIÓN\n",
    "from sklearn.model_selection import train_test_split\n",
    "from sklearn.linear_model import LogisticRegression\n",
    "#Métrica de error: Habrá que incluir la que necesitemos\n",
    "from sklearn.metrics import roc_auc_score\n",
    "\n",
    "#Modelos ML: REGRESIÓN\n",
    "from sklearn.model_selection import train_test_split\n",
    "from sklearn.ensemble import HistGradientBoostingRegressor\n",
    "#Métrica de error: Habrá que incluir la que necesitemos\n",
    "from sklearn.metrics import mean_absolute_error\n"
   ]
  },
  {
   "cell_type": "markdown",
   "id": "c4792b60",
   "metadata": {},
   "source": [
    "## CARGAR LOS DATOS"
   ]
  },
  {
   "cell_type": "markdown",
   "id": "308b1eac",
   "metadata": {},
   "source": [
    "### Ruta del proyecto"
   ]
  },
  {
   "cell_type": "code",
   "execution_count": 2,
   "id": "4e39da3b",
   "metadata": {
    "ExecuteTime": {
     "end_time": "2024-04-23T11:18:34.485872Z",
     "start_time": "2024-04-23T11:18:34.480588Z"
    }
   },
   "outputs": [],
   "source": [
    "ruta_proyecto = 'C:/Users/Oscar/OneDrive - FM4/Escritorio/Python Data Mastery/EstructuraDirectorio/03_MACHINE_LEARNING/08_CASOS/003_RIESGOS'"
   ]
  },
  {
   "cell_type": "markdown",
   "id": "efcacd1b",
   "metadata": {},
   "source": [
    "### Nombre del fichero de datos"
   ]
  },
  {
   "cell_type": "code",
   "execution_count": 3,
   "id": "7dc48ece",
   "metadata": {
    "ExecuteTime": {
     "end_time": "2024-04-23T11:18:37.171769Z",
     "start_time": "2024-04-23T11:18:37.167093Z"
    }
   },
   "outputs": [],
   "source": [
    "nombre_fichero_datos = 'prestamos.csv'"
   ]
  },
  {
   "cell_type": "markdown",
   "id": "69012043",
   "metadata": {},
   "source": [
    "### Cargar los datos"
   ]
  },
  {
   "cell_type": "code",
   "execution_count": 4,
   "id": "b37e76e8",
   "metadata": {
    "ExecuteTime": {
     "end_time": "2024-04-23T11:18:39.751956Z",
     "start_time": "2024-04-23T11:18:38.709835Z"
    }
   },
   "outputs": [],
   "source": [
    "ruta_completa = ruta_proyecto + '/02_Datos/01_Originales/' + nombre_fichero_datos\n",
    "\n",
    "df = pd.read_csv(ruta_completa,index_col=0)"
   ]
  },
  {
   "cell_type": "markdown",
   "id": "867d2084",
   "metadata": {},
   "source": [
    "### Seleccionar solo las variables finales"
   ]
  },
  {
   "cell_type": "markdown",
   "id": "7a54d939",
   "metadata": {},
   "source": [
    "#### Apuntar (manualmente) la lista de variables finales sin extensiones"
   ]
  },
  {
   "cell_type": "code",
   "execution_count": 5,
   "id": "5681ef00",
   "metadata": {
    "ExecuteTime": {
     "end_time": "2024-04-23T11:18:41.920953Z",
     "start_time": "2024-04-23T11:18:41.914646Z"
    }
   },
   "outputs": [],
   "source": [
    "#Metemos todas las variables usadas con sus nombres originales. Algunas de las variables incluidas las hemos borrado en pasos\n",
    "#posteriores pero, esas variables, las hemos usado para hacer transformaciones, así que hay que incluirlas. Son:'estado', \n",
    "#'imp_amortizado', 'imp_recuperado'\n",
    "\n",
    "variables_finales = ['antigüedad_empleo',\n",
    "                     'ingresos_verificados',\n",
    "                     'rating',\n",
    "                     'vivienda',\n",
    "                     'finalidad',\n",
    "                     'num_cuotas',\n",
    "                     'ingresos',\n",
    "                     'dti',\n",
    "                     'num_hipotecas',\n",
    "                     'num_lineas_credito',\n",
    "                     'porc_tarjetas_75p',\n",
    "                     'porc_uso_revolving',\n",
    "                     'num_cancelaciones_12meses',\n",
    "                     'num_derogatorios',\n",
    "                     'num_meses_desde_ult_retraso',\n",
    "                     'principal',\n",
    "                     'tipo_interes',\n",
    "                     'imp_cuota',\n",
    "                     'imp_amortizado',\n",
    "                     'imp_recuperado',\n",
    "                     'estado'\n",
    "                    ]"
   ]
  },
  {
   "cell_type": "markdown",
   "id": "d1f41899",
   "metadata": {},
   "source": [
    "#### Crear la matriz de variables procesos (excel)"
   ]
  },
  {
   "cell_type": "markdown",
   "id": "45ae7490",
   "metadata": {},
   "source": [
    "Ir a la plantilla de Excel \"Fase Producción Plantilla Procesos\" y crear la matriz de variables por procesos."
   ]
  },
  {
   "cell_type": "markdown",
   "id": "7909e400",
   "metadata": {},
   "source": [
    "#### Actualizar las importaciones"
   ]
  },
  {
   "cell_type": "markdown",
   "id": "124fd1d9",
   "metadata": {},
   "source": [
    "Ir arriba a la celda de importacion de paquetes y actualizarlos con los que finalmente vamos a usar."
   ]
  },
  {
   "cell_type": "markdown",
   "id": "a005bfae",
   "metadata": {},
   "source": [
    "## ESTRUCTURA DE LOS DATASETS"
   ]
  },
  {
   "cell_type": "markdown",
   "id": "e5c3dcbd",
   "metadata": {},
   "source": [
    "### Eliminar registros"
   ]
  },
  {
   "cell_type": "markdown",
   "id": "aadb75b0",
   "metadata": {},
   "source": [
    "#### Por atípicos"
   ]
  },
  {
   "cell_type": "code",
   "execution_count": 6,
   "id": "bd766461",
   "metadata": {
    "ExecuteTime": {
     "end_time": "2024-04-23T11:18:47.060975Z",
     "start_time": "2024-04-23T11:18:47.042148Z"
    }
   },
   "outputs": [],
   "source": [
    "a_eliminar = df.loc[df.ingresos > 300000].index.values"
   ]
  },
  {
   "cell_type": "code",
   "execution_count": 7,
   "id": "ad223da6",
   "metadata": {
    "ExecuteTime": {
     "end_time": "2024-04-23T11:18:48.054369Z",
     "start_time": "2024-04-23T11:18:47.957593Z"
    }
   },
   "outputs": [],
   "source": [
    "df = df[~df.index.isin(a_eliminar)]"
   ]
  },
  {
   "cell_type": "markdown",
   "id": "1d487e81",
   "metadata": {},
   "source": [
    "### Seleccionar variables"
   ]
  },
  {
   "cell_type": "markdown",
   "id": "2443d864",
   "metadata": {},
   "source": [
    "Quedarse solo con las de la lista."
   ]
  },
  {
   "cell_type": "code",
   "execution_count": 8,
   "id": "7c958e89",
   "metadata": {
    "ExecuteTime": {
     "end_time": "2024-04-23T11:18:50.121076Z",
     "start_time": "2024-04-23T11:18:50.076047Z"
    }
   },
   "outputs": [],
   "source": [
    "df = df[variables_finales]"
   ]
  },
  {
   "cell_type": "markdown",
   "id": "e01dc402",
   "metadata": {},
   "source": [
    "## CREAR EL PIPELINE"
   ]
  },
  {
   "cell_type": "markdown",
   "id": "7595abb1",
   "metadata": {},
   "source": [
    "### Instanciar calidad de datos"
   ]
  },
  {
   "cell_type": "markdown",
   "id": "7f6db881",
   "metadata": {},
   "source": [
    "#### Crear la función"
   ]
  },
  {
   "cell_type": "code",
   "execution_count": 9,
   "id": "b073eb11",
   "metadata": {},
   "outputs": [],
   "source": [
    "def calidad_datos(temp):\n",
    "    # Limpiar nombres de columnas\n",
    "    temp = clean_names(temp)\n",
    "    \n",
    "    # Rellenar nulos de columna 'antiguedad_empleo'\n",
    "    temp['antiguedad_empleo'] = temp['antiguedad_empleo'].fillna('desconocido')\n",
    "    \n",
    "    # Eliminar dato extraño\n",
    "    temp.drop(index=16130949)\n",
    "   \n",
    "    # Subfunción para categorizar 'porc_tarjetas_75p'\n",
    "    def categorizar_tarjetas(porc):\n",
    "        if porc <= 10:\n",
    "            return '<10%'\n",
    "        elif porc <= 75:\n",
    "            return '11-75%'\n",
    "        else:\n",
    "            return '>75%'\n",
    "    \n",
    "    # Crear nueva columna categorizada\n",
    "    if 'porc_tarjetas_75p' in temp.columns:\n",
    "        temp['cat_tarjetas_75p'] = temp['porc_tarjetas_75p'].apply(categorizar_tarjetas)\n",
    "    \n",
    "    # Sustituimos por 0 los créditos que tienen los estados de impago y por 999 el resto que no han registrado nunca impagos\n",
    "    temp['num_meses_desde_ult_retraso'] = np.where((temp.num_meses_desde_ult_retraso.isna())\n",
    "                                               &(temp.estado.isin(['Charged Off',\n",
    "                                                                   'Does not meet the credit policy. Status:Charged Off',\n",
    "                                                                   'Default'])),\n",
    "                                               temp['num_meses_desde_ult_retraso'].fillna(0),\n",
    "                                               temp['num_meses_desde_ult_retraso'].fillna(999))\n",
    "    \n",
    "    # Rellenar nulos en el resto de columnas numéricas con 0\n",
    "    for column in temp.select_dtypes('number').columns:\n",
    "        temp[column] = temp[column].fillna(0)\n",
    "    \n",
    "    #Imputar por desviación típica\n",
    "    def atipicos_desv_tip(variable, num_desv_tip = 4):\n",
    "        #sacamos los nulos por ahora\n",
    "        variable = variable.dropna()\n",
    "        #calculamos los límites\n",
    "        media = np.mean(variable)\n",
    "        sd = np.std(variable)\n",
    "        umbral = sd * num_desv_tip\n",
    "        lim_inf = media - umbral\n",
    "        lim_sup = media + umbral\n",
    "        #encontramos los índices de los que están fuera de los límites\n",
    "        indices = [indice for indice,valor in variable.items() if valor < lim_inf or valor > lim_sup]\n",
    "        return(indices)\n",
    "    var_atipicos_desv_tip = ['ingresos','num_hipotecas','principal','imp_cuota','imp_recuperado']\n",
    "    \n",
    "    #Winsorización manual\n",
    "    temp['porc_uso_revolving'] = temp['porc_uso_revolving'].clip(0, 100)\n",
    "    temp['dti'] = temp['dti'].clip(0, 100)    \n",
    "\n",
    "    return temp"
   ]
  },
  {
   "cell_type": "markdown",
   "id": "3d9b0f62",
   "metadata": {},
   "source": [
    "### Instanciar creación de variables"
   ]
  },
  {
   "cell_type": "markdown",
   "id": "39f03756",
   "metadata": {},
   "source": [
    "Dado que la creación de variables es diferente para los 3 modelos necesitamos construir 3 funciones."
   ]
  },
  {
   "cell_type": "markdown",
   "id": "7d6edf93",
   "metadata": {},
   "source": [
    "#### Crear las funciones"
   ]
  },
  {
   "cell_type": "code",
   "execution_count": 10,
   "id": "eae71953",
   "metadata": {
    "ExecuteTime": {
     "end_time": "2024-04-23T11:18:56.828619Z",
     "start_time": "2024-04-23T11:18:56.821225Z"
    }
   },
   "outputs": [],
   "source": [
    "def creacion_variables_pd(df):\n",
    "    \n",
    "    temp = df.copy()\n",
    "    \n",
    "    temp['target_pd'] = np.where(temp.estado.isin(['Charged Off','Does not meet the credit policy. Status:Charged Off','Default']), 1, 0)\n",
    "    \n",
    "    temp.vivienda = temp.vivienda.replace(['ANY','NONE','OTHER'],'MORTGAGE')\n",
    "    \n",
    "    temp.finalidad = temp.finalidad.replace(['wedding','educational','renewable_energy'],'otros')\n",
    "    \n",
    "    #Eliminamos las variables que ya no usaremos\n",
    "    #'estado' la hemos usado para generar la target por lo que no podemos usarla para predecir\n",
    "    #'imp_amortizado','imp_recuperado' las eliminamos porque no las tendremos cuando queramos hacer una predicción de riesgos\n",
    "    #en el futuro porque no tendrán datos, por lo que no tiene sentido que las usemos para predecir ahora que están informadas\n",
    "    temp.drop(columns = ['estado','imp_amortizado','imp_recuperado'],inplace = True)\n",
    "    \n",
    "    #Separamos entre predictoras y target\n",
    "    temp_x = temp.iloc[:,:-1]\n",
    "    temp_y = temp.iloc[:,-1]\n",
    "    \n",
    "    return(temp_x,temp_y)"
   ]
  },
  {
   "cell_type": "code",
   "execution_count": 11,
   "id": "9d82b1fe",
   "metadata": {
    "ExecuteTime": {
     "end_time": "2024-04-23T11:18:57.617975Z",
     "start_time": "2024-04-23T11:18:57.608744Z"
    }
   },
   "outputs": [],
   "source": [
    "def creacion_variables_ead(df):\n",
    "    \n",
    "    temp = df.copy()\n",
    "    \n",
    "    temp['pendiente'] = temp.principal - temp.imp_amortizado\n",
    "    \n",
    "    temp['target_ead'] = temp.pendiente / temp.principal\n",
    "    \n",
    "    temp.vivienda = temp.vivienda.replace(['ANY','NONE','OTHER'],'MORTGAGE')\n",
    "    \n",
    "    temp.finalidad = temp.finalidad.replace(['wedding','educational','renewable_energy'],'otros')\n",
    "    \n",
    "    #Eliminamos las variables que ya no usaremos\n",
    "    #'estado' la hemos usado para generar la target por lo que no podemos usarla para predecir\n",
    "    #'imp_amortizado','imp_recuperado' las eliminamos porque no las tendremos cuando queramos hacer una predicción de riesgos\n",
    "    #en el futuro porque no tendrán datos, por lo que no tiene sentido que las usemos para predecir ahora que están informadas\n",
    "    temp.drop(columns = ['estado','imp_amortizado','imp_recuperado','pendiente'],inplace = True)\n",
    "    \n",
    "    #Separamos entre predictoras y target\n",
    "    temp_x = temp.iloc[:,:-1]\n",
    "    temp_y = temp.iloc[:,-1]\n",
    "    \n",
    "    return(temp_x,temp_y)"
   ]
  },
  {
   "cell_type": "code",
   "execution_count": 12,
   "id": "b2295274",
   "metadata": {
    "ExecuteTime": {
     "end_time": "2024-04-23T11:18:58.199064Z",
     "start_time": "2024-04-23T11:18:58.189182Z"
    }
   },
   "outputs": [],
   "source": [
    "def creacion_variables_lgd(df):\n",
    "    \n",
    "    temp = df.copy()\n",
    "    \n",
    "    temp['pendiente'] = temp.principal - temp.imp_amortizado\n",
    "    \n",
    "    temp['target_lgd'] = 1 - (temp.imp_recuperado / temp.pendiente)\n",
    "    \n",
    "    temp['target_lgd'].fillna(0,inplace=True)\n",
    "    \n",
    "    temp.vivienda = temp.vivienda.replace(['ANY','NONE','OTHER'],'MORTGAGE')\n",
    "    \n",
    "    temp.finalidad = temp.finalidad.replace(['wedding','educational','renewable_energy'],'otros')\n",
    "    \n",
    "    #Eliminamos las variables que ya no usaremos\n",
    "    #'estado' la hemos usado para generar la target por lo que no podemos usarla para predecir\n",
    "    #'imp_amortizado','imp_recuperado' las eliminamos porque no las tendremos cuando queramos hacer una predicción de riesgos\n",
    "    #en el futuro porque no tendrán datos, por lo que no tiene sentido que las usemos para predecir ahora que están informadas\n",
    "    temp.drop(columns = ['estado','imp_amortizado','imp_recuperado','pendiente'],inplace = True)\n",
    "    \n",
    "    #Separamos entre predictoras y target\n",
    "    temp_x = temp.iloc[:,:-1]\n",
    "    temp_y = temp.iloc[:,-1]\n",
    "    \n",
    "    return(temp_x,temp_y)"
   ]
  },
  {
   "cell_type": "markdown",
   "id": "bfe03875",
   "metadata": {},
   "source": [
    "#### Crear los dataframes de X e y"
   ]
  },
  {
   "cell_type": "code",
   "execution_count": 26,
   "id": "1f7f1949",
   "metadata": {
    "ExecuteTime": {
     "end_time": "2024-04-23T11:19:00.837197Z",
     "start_time": "2024-04-23T11:18:59.672493Z"
    }
   },
   "outputs": [],
   "source": [
    "x_pd, y_pd = creacion_variables_pd(calidad_datos(df))\n",
    "\n",
    "x_ead, y_ead = creacion_variables_ead(calidad_datos(df))\n",
    "\n",
    "x_lgd, y_lgd = creacion_variables_lgd(calidad_datos(df))"
   ]
  },
  {
   "cell_type": "code",
   "execution_count": 27,
   "id": "7660bb36",
   "metadata": {},
   "outputs": [
    {
     "data": {
      "text/html": [
       "<div>\n",
       "<style scoped>\n",
       "    .dataframe tbody tr th:only-of-type {\n",
       "        vertical-align: middle;\n",
       "    }\n",
       "\n",
       "    .dataframe tbody tr th {\n",
       "        vertical-align: top;\n",
       "    }\n",
       "\n",
       "    .dataframe thead th {\n",
       "        text-align: right;\n",
       "    }\n",
       "</style>\n",
       "<table border=\"1\" class=\"dataframe\">\n",
       "  <thead>\n",
       "    <tr style=\"text-align: right;\">\n",
       "      <th></th>\n",
       "      <th>antiguedad_empleo</th>\n",
       "      <th>ingresos_verificados</th>\n",
       "      <th>rating</th>\n",
       "      <th>vivienda</th>\n",
       "      <th>finalidad</th>\n",
       "      <th>num_cuotas</th>\n",
       "      <th>ingresos</th>\n",
       "      <th>dti</th>\n",
       "      <th>num_hipotecas</th>\n",
       "      <th>num_lineas_credito</th>\n",
       "      <th>porc_tarjetas_75p</th>\n",
       "      <th>porc_uso_revolving</th>\n",
       "      <th>num_cancelaciones_12meses</th>\n",
       "      <th>num_derogatorios</th>\n",
       "      <th>num_meses_desde_ult_retraso</th>\n",
       "      <th>principal</th>\n",
       "      <th>tipo_interes</th>\n",
       "      <th>imp_cuota</th>\n",
       "      <th>cat_tarjetas_75p</th>\n",
       "      <th>pendiente</th>\n",
       "    </tr>\n",
       "    <tr>\n",
       "      <th>id_cliente</th>\n",
       "      <th></th>\n",
       "      <th></th>\n",
       "      <th></th>\n",
       "      <th></th>\n",
       "      <th></th>\n",
       "      <th></th>\n",
       "      <th></th>\n",
       "      <th></th>\n",
       "      <th></th>\n",
       "      <th></th>\n",
       "      <th></th>\n",
       "      <th></th>\n",
       "      <th></th>\n",
       "      <th></th>\n",
       "      <th></th>\n",
       "      <th></th>\n",
       "      <th></th>\n",
       "      <th></th>\n",
       "      <th></th>\n",
       "      <th></th>\n",
       "    </tr>\n",
       "  </thead>\n",
       "  <tbody>\n",
       "    <tr>\n",
       "      <th>137387967</th>\n",
       "      <td>3 years</td>\n",
       "      <td>Source Verified</td>\n",
       "      <td>A</td>\n",
       "      <td>MORTGAGE</td>\n",
       "      <td>debt_consolidation</td>\n",
       "      <td>36 months</td>\n",
       "      <td>54000.00</td>\n",
       "      <td>19.31</td>\n",
       "      <td>2.00</td>\n",
       "      <td>10.00</td>\n",
       "      <td>33.30</td>\n",
       "      <td>45.20</td>\n",
       "      <td>0.00</td>\n",
       "      <td>0.00</td>\n",
       "      <td>10.00</td>\n",
       "      <td>15000.00</td>\n",
       "      <td>7.21</td>\n",
       "      <td>464.60</td>\n",
       "      <td>11-75%</td>\n",
       "      <td>12330.94</td>\n",
       "    </tr>\n",
       "    <tr>\n",
       "      <th>4798121</th>\n",
       "      <td>10+ years</td>\n",
       "      <td>Not Verified</td>\n",
       "      <td>D</td>\n",
       "      <td>RENT</td>\n",
       "      <td>debt_consolidation</td>\n",
       "      <td>36 months</td>\n",
       "      <td>65000.00</td>\n",
       "      <td>25.40</td>\n",
       "      <td>1.00</td>\n",
       "      <td>15.00</td>\n",
       "      <td>85.70</td>\n",
       "      <td>86.20</td>\n",
       "      <td>0.00</td>\n",
       "      <td>0.00</td>\n",
       "      <td>0.00</td>\n",
       "      <td>10000.00</td>\n",
       "      <td>17.77</td>\n",
       "      <td>360.38</td>\n",
       "      <td>&gt;75%</td>\n",
       "      <td>3637.04</td>\n",
       "    </tr>\n",
       "    <tr>\n",
       "      <th>46641215</th>\n",
       "      <td>5 years</td>\n",
       "      <td>Verified</td>\n",
       "      <td>A</td>\n",
       "      <td>RENT</td>\n",
       "      <td>debt_consolidation</td>\n",
       "      <td>36 months</td>\n",
       "      <td>135000.00</td>\n",
       "      <td>14.68</td>\n",
       "      <td>0.00</td>\n",
       "      <td>19.00</td>\n",
       "      <td>0.00</td>\n",
       "      <td>16.30</td>\n",
       "      <td>0.00</td>\n",
       "      <td>0.00</td>\n",
       "      <td>999.00</td>\n",
       "      <td>24000.00</td>\n",
       "      <td>6.39</td>\n",
       "      <td>734.38</td>\n",
       "      <td>&lt;10%</td>\n",
       "      <td>0.00</td>\n",
       "    </tr>\n",
       "    <tr>\n",
       "      <th>87998444</th>\n",
       "      <td>9 years</td>\n",
       "      <td>Source Verified</td>\n",
       "      <td>B</td>\n",
       "      <td>MORTGAGE</td>\n",
       "      <td>credit_card</td>\n",
       "      <td>60 months</td>\n",
       "      <td>188000.00</td>\n",
       "      <td>11.69</td>\n",
       "      <td>3.00</td>\n",
       "      <td>15.00</td>\n",
       "      <td>0.00</td>\n",
       "      <td>3.30</td>\n",
       "      <td>0.00</td>\n",
       "      <td>0.00</td>\n",
       "      <td>999.00</td>\n",
       "      <td>27000.00</td>\n",
       "      <td>8.99</td>\n",
       "      <td>560.35</td>\n",
       "      <td>&lt;10%</td>\n",
       "      <td>14557.00</td>\n",
       "    </tr>\n",
       "    <tr>\n",
       "      <th>132883631</th>\n",
       "      <td>7 years</td>\n",
       "      <td>Source Verified</td>\n",
       "      <td>B</td>\n",
       "      <td>MORTGAGE</td>\n",
       "      <td>debt_consolidation</td>\n",
       "      <td>36 months</td>\n",
       "      <td>125000.00</td>\n",
       "      <td>9.00</td>\n",
       "      <td>1.00</td>\n",
       "      <td>6.00</td>\n",
       "      <td>33.30</td>\n",
       "      <td>69.90</td>\n",
       "      <td>0.00</td>\n",
       "      <td>0.00</td>\n",
       "      <td>16.00</td>\n",
       "      <td>22000.00</td>\n",
       "      <td>10.90</td>\n",
       "      <td>719.22</td>\n",
       "      <td>11-75%</td>\n",
       "      <td>0.00</td>\n",
       "    </tr>\n",
       "    <tr>\n",
       "      <th>...</th>\n",
       "      <td>...</td>\n",
       "      <td>...</td>\n",
       "      <td>...</td>\n",
       "      <td>...</td>\n",
       "      <td>...</td>\n",
       "      <td>...</td>\n",
       "      <td>...</td>\n",
       "      <td>...</td>\n",
       "      <td>...</td>\n",
       "      <td>...</td>\n",
       "      <td>...</td>\n",
       "      <td>...</td>\n",
       "      <td>...</td>\n",
       "      <td>...</td>\n",
       "      <td>...</td>\n",
       "      <td>...</td>\n",
       "      <td>...</td>\n",
       "      <td>...</td>\n",
       "      <td>...</td>\n",
       "      <td>...</td>\n",
       "    </tr>\n",
       "    <tr>\n",
       "      <th>51876926</th>\n",
       "      <td>10+ years</td>\n",
       "      <td>Not Verified</td>\n",
       "      <td>C</td>\n",
       "      <td>MORTGAGE</td>\n",
       "      <td>debt_consolidation</td>\n",
       "      <td>36 months</td>\n",
       "      <td>42000.00</td>\n",
       "      <td>20.85</td>\n",
       "      <td>6.00</td>\n",
       "      <td>9.00</td>\n",
       "      <td>100.00</td>\n",
       "      <td>81.60</td>\n",
       "      <td>0.00</td>\n",
       "      <td>0.00</td>\n",
       "      <td>13.00</td>\n",
       "      <td>8000.00</td>\n",
       "      <td>12.29</td>\n",
       "      <td>266.83</td>\n",
       "      <td>&gt;75%</td>\n",
       "      <td>0.00</td>\n",
       "    </tr>\n",
       "    <tr>\n",
       "      <th>121031962</th>\n",
       "      <td>6 years</td>\n",
       "      <td>Verified</td>\n",
       "      <td>B</td>\n",
       "      <td>MORTGAGE</td>\n",
       "      <td>other</td>\n",
       "      <td>36 months</td>\n",
       "      <td>111697.00</td>\n",
       "      <td>16.63</td>\n",
       "      <td>2.00</td>\n",
       "      <td>10.00</td>\n",
       "      <td>50.00</td>\n",
       "      <td>26.30</td>\n",
       "      <td>0.00</td>\n",
       "      <td>1.00</td>\n",
       "      <td>6.00</td>\n",
       "      <td>10000.00</td>\n",
       "      <td>9.44</td>\n",
       "      <td>320.05</td>\n",
       "      <td>11-75%</td>\n",
       "      <td>5611.49</td>\n",
       "    </tr>\n",
       "    <tr>\n",
       "      <th>135641397</th>\n",
       "      <td>10+ years</td>\n",
       "      <td>Source Verified</td>\n",
       "      <td>D</td>\n",
       "      <td>MORTGAGE</td>\n",
       "      <td>small_business</td>\n",
       "      <td>36 months</td>\n",
       "      <td>285000.00</td>\n",
       "      <td>6.02</td>\n",
       "      <td>3.00</td>\n",
       "      <td>9.00</td>\n",
       "      <td>25.00</td>\n",
       "      <td>21.10</td>\n",
       "      <td>0.00</td>\n",
       "      <td>0.00</td>\n",
       "      <td>25.00</td>\n",
       "      <td>30000.00</td>\n",
       "      <td>17.47</td>\n",
       "      <td>1076.62</td>\n",
       "      <td>11-75%</td>\n",
       "      <td>24612.47</td>\n",
       "    </tr>\n",
       "    <tr>\n",
       "      <th>53664762</th>\n",
       "      <td>8 years</td>\n",
       "      <td>Source Verified</td>\n",
       "      <td>E</td>\n",
       "      <td>RENT</td>\n",
       "      <td>small_business</td>\n",
       "      <td>60 months</td>\n",
       "      <td>168000.00</td>\n",
       "      <td>4.69</td>\n",
       "      <td>0.00</td>\n",
       "      <td>8.00</td>\n",
       "      <td>0.00</td>\n",
       "      <td>52.40</td>\n",
       "      <td>0.00</td>\n",
       "      <td>2.00</td>\n",
       "      <td>0.00</td>\n",
       "      <td>30050.00</td>\n",
       "      <td>18.25</td>\n",
       "      <td>767.17</td>\n",
       "      <td>&lt;10%</td>\n",
       "      <td>27085.56</td>\n",
       "    </tr>\n",
       "    <tr>\n",
       "      <th>94394801</th>\n",
       "      <td>desconocido</td>\n",
       "      <td>Not Verified</td>\n",
       "      <td>C</td>\n",
       "      <td>MORTGAGE</td>\n",
       "      <td>debt_consolidation</td>\n",
       "      <td>36 months</td>\n",
       "      <td>80000.00</td>\n",
       "      <td>31.49</td>\n",
       "      <td>1.00</td>\n",
       "      <td>9.00</td>\n",
       "      <td>50.00</td>\n",
       "      <td>49.10</td>\n",
       "      <td>0.00</td>\n",
       "      <td>0.00</td>\n",
       "      <td>49.00</td>\n",
       "      <td>10000.00</td>\n",
       "      <td>13.99</td>\n",
       "      <td>341.73</td>\n",
       "      <td>11-75%</td>\n",
       "      <td>2903.60</td>\n",
       "    </tr>\n",
       "  </tbody>\n",
       "</table>\n",
       "<p>198679 rows × 20 columns</p>\n",
       "</div>"
      ],
      "text/plain": [
       "           antiguedad_empleo ingresos_verificados rating  vivienda  \\\n",
       "id_cliente                                                           \n",
       "137387967            3 years      Source Verified      A  MORTGAGE   \n",
       "4798121            10+ years         Not Verified      D      RENT   \n",
       "46641215             5 years             Verified      A      RENT   \n",
       "87998444             9 years      Source Verified      B  MORTGAGE   \n",
       "132883631            7 years      Source Verified      B  MORTGAGE   \n",
       "...                      ...                  ...    ...       ...   \n",
       "51876926           10+ years         Not Verified      C  MORTGAGE   \n",
       "121031962            6 years             Verified      B  MORTGAGE   \n",
       "135641397          10+ years      Source Verified      D  MORTGAGE   \n",
       "53664762             8 years      Source Verified      E      RENT   \n",
       "94394801         desconocido         Not Verified      C  MORTGAGE   \n",
       "\n",
       "                     finalidad  num_cuotas  ingresos   dti  num_hipotecas  \\\n",
       "id_cliente                                                                  \n",
       "137387967   debt_consolidation   36 months  54000.00 19.31           2.00   \n",
       "4798121     debt_consolidation   36 months  65000.00 25.40           1.00   \n",
       "46641215    debt_consolidation   36 months 135000.00 14.68           0.00   \n",
       "87998444           credit_card   60 months 188000.00 11.69           3.00   \n",
       "132883631   debt_consolidation   36 months 125000.00  9.00           1.00   \n",
       "...                        ...         ...       ...   ...            ...   \n",
       "51876926    debt_consolidation   36 months  42000.00 20.85           6.00   \n",
       "121031962                other   36 months 111697.00 16.63           2.00   \n",
       "135641397       small_business   36 months 285000.00  6.02           3.00   \n",
       "53664762        small_business   60 months 168000.00  4.69           0.00   \n",
       "94394801    debt_consolidation   36 months  80000.00 31.49           1.00   \n",
       "\n",
       "            num_lineas_credito  porc_tarjetas_75p  porc_uso_revolving  \\\n",
       "id_cliente                                                              \n",
       "137387967                10.00              33.30               45.20   \n",
       "4798121                  15.00              85.70               86.20   \n",
       "46641215                 19.00               0.00               16.30   \n",
       "87998444                 15.00               0.00                3.30   \n",
       "132883631                 6.00              33.30               69.90   \n",
       "...                        ...                ...                 ...   \n",
       "51876926                  9.00             100.00               81.60   \n",
       "121031962                10.00              50.00               26.30   \n",
       "135641397                 9.00              25.00               21.10   \n",
       "53664762                  8.00               0.00               52.40   \n",
       "94394801                  9.00              50.00               49.10   \n",
       "\n",
       "            num_cancelaciones_12meses  num_derogatorios  \\\n",
       "id_cliente                                                \n",
       "137387967                        0.00              0.00   \n",
       "4798121                          0.00              0.00   \n",
       "46641215                         0.00              0.00   \n",
       "87998444                         0.00              0.00   \n",
       "132883631                        0.00              0.00   \n",
       "...                               ...               ...   \n",
       "51876926                         0.00              0.00   \n",
       "121031962                        0.00              1.00   \n",
       "135641397                        0.00              0.00   \n",
       "53664762                         0.00              2.00   \n",
       "94394801                         0.00              0.00   \n",
       "\n",
       "            num_meses_desde_ult_retraso  principal  tipo_interes  imp_cuota  \\\n",
       "id_cliente                                                                    \n",
       "137387967                         10.00   15000.00          7.21     464.60   \n",
       "4798121                            0.00   10000.00         17.77     360.38   \n",
       "46641215                         999.00   24000.00          6.39     734.38   \n",
       "87998444                         999.00   27000.00          8.99     560.35   \n",
       "132883631                         16.00   22000.00         10.90     719.22   \n",
       "...                                 ...        ...           ...        ...   \n",
       "51876926                          13.00    8000.00         12.29     266.83   \n",
       "121031962                          6.00   10000.00          9.44     320.05   \n",
       "135641397                         25.00   30000.00         17.47    1076.62   \n",
       "53664762                           0.00   30050.00         18.25     767.17   \n",
       "94394801                          49.00   10000.00         13.99     341.73   \n",
       "\n",
       "           cat_tarjetas_75p  pendiente  \n",
       "id_cliente                              \n",
       "137387967            11-75%   12330.94  \n",
       "4798121                >75%    3637.04  \n",
       "46641215               <10%       0.00  \n",
       "87998444               <10%   14557.00  \n",
       "132883631            11-75%       0.00  \n",
       "...                     ...        ...  \n",
       "51876926               >75%       0.00  \n",
       "121031962            11-75%    5611.49  \n",
       "135641397            11-75%   24612.47  \n",
       "53664762               <10%   27085.56  \n",
       "94394801             11-75%    2903.60  \n",
       "\n",
       "[198679 rows x 20 columns]"
      ]
     },
     "execution_count": 27,
     "metadata": {},
     "output_type": "execute_result"
    }
   ],
   "source": [
    "x_ead"
   ]
  },
  {
   "cell_type": "markdown",
   "id": "d4fc23e0",
   "metadata": {},
   "source": [
    "### Instanciar transformación de variables"
   ]
  },
  {
   "cell_type": "code",
   "execution_count": 28,
   "id": "4551f39b",
   "metadata": {},
   "outputs": [],
   "source": [
    "#ONE HOT ENCODING\n",
    "var_ohe = [ 'ingresos_verificados', 'vivienda','finalidad','num_cuotas']\n",
    "ohe = OneHotEncoder(sparse_output = False, handle_unknown='ignore')\n",
    "\n",
    "\n",
    "#ORDINAL ENCODING\n",
    "var_oe = ['antiguedad_empleo','rating','cat_tarjetas_75p']\n",
    "\n",
    "orden_antiguedad_empleo = ['desconocido','< 1 year','1 year','2 years','3 years','4 years',\n",
    "                           '5 years','6 years','7 years','8 years','9 years','10+ years']\n",
    "\n",
    "orden_rating = ['A','B','C','D','E','F','G']\n",
    "\n",
    "orden_cat_tarjetas_75p = ['<10%','11-75%','>75%']\n",
    "\n",
    "oe = OrdinalEncoder(categories = [orden_antiguedad_empleo,orden_rating,orden_cat_tarjetas_75p],\n",
    "                    handle_unknown = 'use_encoded_value',\n",
    "                    unknown_value = 12)\n",
    "\n",
    "#BINNING\n",
    "var_bin = ['num_derogatorios']\n",
    "bina = Binarizer(threshold=0)\n",
    "\n",
    "\n",
    "#MIN-MAX SCALING\n",
    "var_mms = ['ingresos','dti','num_lineas_credito','porc_uso_revolving',\n",
    "            'principal','tipo_interes','imp_cuota']\n",
    "mms = MinMaxScaler()\n"
   ]
  },
  {
   "cell_type": "markdown",
   "id": "cf6be5e3",
   "metadata": {},
   "source": [
    "### Crear el pipe del preprocesamiento"
   ]
  },
  {
   "cell_type": "markdown",
   "id": "411f8b90",
   "metadata": {},
   "source": [
    "#### Crear el column transformer"
   ]
  },
  {
   "cell_type": "code",
   "execution_count": 29,
   "id": "abad40b4",
   "metadata": {},
   "outputs": [],
   "source": [
    "ct = make_column_transformer(\n",
    "    (ohe, var_ohe),\n",
    "    (oe, var_oe),\n",
    "#    (te, var_te),\n",
    "#    (disc_ds, var_disc_ds),\n",
    "#    (disc_cs, var_disc_cs),\n",
    "    (bina, var_bin),\n",
    "#    (yeo, var_yeo),    \n",
    "#    (qt, var_qt),\n",
    "    (mms, var_mms),\n",
    "#    (ss, var_ss),\n",
    "#    (rs, var_rs),\n",
    "    remainder='passthrough') #En este caso no hay mas variables porque las hemos usado todas. Podría ser: 'drop' o 'passthrough'"
   ]
  },
  {
   "cell_type": "markdown",
   "id": "8ee97b5c",
   "metadata": {},
   "source": [
    "### Instanciar los modelos"
   ]
  },
  {
   "cell_type": "markdown",
   "id": "9c1732e5",
   "metadata": {},
   "source": [
    "#### Instanciar los algoritmos"
   ]
  },
  {
   "cell_type": "code",
   "execution_count": 30,
   "id": "5edfd69d",
   "metadata": {},
   "outputs": [],
   "source": [
    "modelo_pd = LogisticRegression(solver = 'saga', n_jobs=-1, C = 0.25, penalty = 'l1')\n",
    "\n",
    "modelo_ead = HistGradientBoostingRegressor(learning_rate = 0.1,\n",
    "                                          max_iter = 200,\n",
    "                                          max_depth = 10,\n",
    "                                          min_samples_leaf = 100,\n",
    "                                          scoring = 'neg_mean_absolute_percentage_error',\n",
    "                                          l2_regularization = 0.75)\n",
    "\n",
    "modelo_lgd = HistGradientBoostingRegressor(learning_rate = 0.1,\n",
    "                                          max_iter = 200,\n",
    "                                          max_depth = 20,\n",
    "                                          min_samples_leaf = 100,\n",
    "                                          scoring = 'neg_mean_absolute_percentage_error',\n",
    "                                          l2_regularization = 0)"
   ]
  },
  {
   "cell_type": "markdown",
   "id": "6696ec9b",
   "metadata": {},
   "source": [
    "#### Crear los pipes finales de entrenamiento"
   ]
  },
  {
   "cell_type": "code",
   "execution_count": 31,
   "id": "5e877304",
   "metadata": {},
   "outputs": [],
   "source": [
    "pipe_entrenamiento_pd = make_pipeline(ct,modelo_pd)\n",
    "\n",
    "pipe_entrenamiento_ead = make_pipeline(ct,modelo_ead)\n",
    "\n",
    "pipe_entrenamiento_lgd = make_pipeline(ct,modelo_lgd)"
   ]
  },
  {
   "cell_type": "markdown",
   "id": "6a3536f5",
   "metadata": {},
   "source": [
    "#### Guardar el pipe final de entrenamiento\n",
    "\n",
    "Guardamos este código como objeto para poder usarlo en el reentrenamiento futuro"
   ]
  },
  {
   "cell_type": "code",
   "execution_count": 32,
   "id": "f3c583d9",
   "metadata": {},
   "outputs": [],
   "source": [
    "ruta_pipe_entrenamiento_pd = ruta_proyecto + '/04_Modelos/pipe_entrenamiento_pd.pickle'\n",
    "\n",
    "with open(ruta_pipe_entrenamiento_pd, mode='wb') as file:\n",
    "   pickle.dump(pipe_entrenamiento_pd, file)"
   ]
  },
  {
   "cell_type": "code",
   "execution_count": 33,
   "id": "74981c82",
   "metadata": {},
   "outputs": [],
   "source": [
    "ruta_pipe_entrenamiento_ead = ruta_proyecto + '/04_Modelos/pipe_entrenamiento_ead.pickle'\n",
    "\n",
    "with open(ruta_pipe_entrenamiento_ead, mode='wb') as file:\n",
    "   pickle.dump(pipe_entrenamiento_ead, file)"
   ]
  },
  {
   "cell_type": "code",
   "execution_count": 34,
   "id": "6fa8a83d",
   "metadata": {},
   "outputs": [],
   "source": [
    "ruta_pipe_entrenamiento_lgd = ruta_proyecto + '/04_Modelos/pipe_entrenamiento_lgd.pickle'\n",
    "\n",
    "with open(ruta_pipe_entrenamiento_lgd, mode='wb') as file:\n",
    "   pickle.dump(pipe_entrenamiento_lgd, file)"
   ]
  },
  {
   "cell_type": "markdown",
   "id": "db63c72d",
   "metadata": {},
   "source": [
    "#### Entrenar los pipes"
   ]
  },
  {
   "cell_type": "code",
   "execution_count": 35,
   "id": "906da6aa",
   "metadata": {},
   "outputs": [],
   "source": [
    "pipe_ejecucion_pd = pipe_entrenamiento_pd.fit(x_pd,y_pd)\n",
    "pipe_ejecucion_ead = pipe_entrenamiento_ead.fit(x_ead,y_ead)\n",
    "pipe_ejecucion_lgd = pipe_entrenamiento_lgd.fit(x_lgd,y_lgd)"
   ]
  },
  {
   "cell_type": "markdown",
   "id": "ae12f9ff",
   "metadata": {},
   "source": [
    "## GUARDAR EL PIPE"
   ]
  },
  {
   "cell_type": "markdown",
   "id": "a5288b7c",
   "metadata": {},
   "source": [
    "### Guardar el pipe final de ejecución"
   ]
  },
  {
   "cell_type": "code",
   "execution_count": 36,
   "id": "5229ff0b",
   "metadata": {},
   "outputs": [],
   "source": [
    "ruta_pipe_ejecucion_pd = ruta_proyecto + '/04_Modelos/pipe_ejecucion_pd.pickle'\n",
    "\n",
    "with open(ruta_pipe_ejecucion_pd, mode='wb') as file:\n",
    "   pickle.dump(pipe_ejecucion_pd, file)"
   ]
  },
  {
   "cell_type": "code",
   "execution_count": 37,
   "id": "fc7bd5e1",
   "metadata": {},
   "outputs": [],
   "source": [
    "ruta_pipe_ejecucion_ead = ruta_proyecto + '/04_Modelos/pipe_ejecucion_ead.pickle'\n",
    "\n",
    "with open(ruta_pipe_ejecucion_ead, mode='wb') as file:\n",
    "   pickle.dump(pipe_ejecucion_ead, file)"
   ]
  },
  {
   "cell_type": "code",
   "execution_count": 38,
   "id": "6fbe9969",
   "metadata": {},
   "outputs": [],
   "source": [
    "ruta_pipe_ejecucion_lgd = ruta_proyecto + '/04_Modelos/pipe_ejecucion_lgd.pickle'\n",
    "\n",
    "with open(ruta_pipe_ejecucion_lgd, mode='wb') as file:\n",
    "   pickle.dump(pipe_ejecucion_lgd, file)"
   ]
  }
 ],
 "metadata": {
  "hide_input": false,
  "kernelspec": {
   "display_name": "Python 3 (ipykernel)",
   "language": "python",
   "name": "python3"
  },
  "language_info": {
   "codemirror_mode": {
    "name": "ipython",
    "version": 3
   },
   "file_extension": ".py",
   "mimetype": "text/x-python",
   "name": "python",
   "nbconvert_exporter": "python",
   "pygments_lexer": "ipython3",
   "version": "3.11.11"
  },
  "nbTranslate": {
   "displayLangs": [
    "*"
   ],
   "hotkey": "alt-t",
   "langInMainMenu": true,
   "sourceLang": "en",
   "targetLang": "fr",
   "useGoogleTranslate": true
  },
  "toc": {
   "base_numbering": 1,
   "nav_menu": {},
   "number_sections": true,
   "sideBar": true,
   "skip_h1_title": false,
   "title_cell": "Table of Contents",
   "title_sidebar": "Contents",
   "toc_cell": false,
   "toc_position": {
    "height": "calc(100% - 180px)",
    "left": "10px",
    "top": "150px",
    "width": "383.367px"
   },
   "toc_section_display": true,
   "toc_window_display": false
  },
  "varInspector": {
   "cols": {
    "lenName": 16,
    "lenType": 16,
    "lenVar": 40
   },
   "kernels_config": {
    "python": {
     "delete_cmd_postfix": "",
     "delete_cmd_prefix": "del ",
     "library": "var_list.py",
     "varRefreshCmd": "print(var_dic_list())"
    },
    "r": {
     "delete_cmd_postfix": ") ",
     "delete_cmd_prefix": "rm(",
     "library": "var_list.r",
     "varRefreshCmd": "cat(var_dic_list()) "
    }
   },
   "position": {
    "height": "437.85px",
    "left": "1550px",
    "right": "20px",
    "top": "120px",
    "width": "350px"
   },
   "types_to_exclude": [
    "module",
    "function",
    "builtin_function_or_method",
    "instance",
    "_Feature"
   ],
   "window_display": true
  }
 },
 "nbformat": 4,
 "nbformat_minor": 5
}
