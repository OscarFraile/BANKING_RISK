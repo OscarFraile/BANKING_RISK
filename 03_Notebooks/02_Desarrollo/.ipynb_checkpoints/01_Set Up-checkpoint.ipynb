{
 "cells": [
  {
   "cell_type": "markdown",
   "id": "dbef57d7",
   "metadata": {},
   "source": [
    "# SET UP"
   ]
  },
  {
   "cell_type": "markdown",
   "id": "eb4e52a4",
   "metadata": {},
   "source": [
    "## CREAR EL ENTORNO PARA EL PROYECTO"
   ]
  },
  {
   "cell_type": "markdown",
   "id": "4bb3219d",
   "metadata": {},
   "source": [
    "Crear un nuevo entorno e instalar los paquetes básicos:\n",
    "\n",
    "**Hemos adaptado algunas versiones de librerías para que no te den fallo de compatibilidad**\n",
    "\n",
    "1. Ir al prompt o terminal\n",
    "2. Copiar y poner la línea inferior:\n",
    "\n",
    "conda create --name 003_riesgos -c conda-forge python=3.11.11 numpy pandas matplotlib seaborn scikit-learn=1.3.1 scipy=1.9.3 sqlalchemy xgboost=2.0.3 \n",
    "\n",
    "3. Activar el nuevo entorno:\n",
    "\n",
    "conda activate 003_riesgos\n",
    "\n",
    "4. Instalar los paquetes que están en otros canales:\n",
    "\n",
    "conda install -c conda-forge pyjanitor scikit-plot yellowbrick imbalanced-learn cloudpickle \n",
    "\n",
    "conda install -c districtdatalabs yellowbrick\n",
    "\n",
    "conda install -c conda-forge streamlit\n",
    "\n",
    "pip install notebook==5.7.8 jupyter_client jupyter_contrib_nbextensions category_encoders==2.6.2\n",
    "\n",
    "pip install streamlit-echarts\n",
    "\n",
    "pip install pipreqs\n",
    "\n",
    "5. Crear el environment.yml\n",
    "\n",
    "conda env export > 003_riesgos.yml\n",
    "\n",
    "*Nota: es posible que te lo haya creado en C:\\Users\\tu_usuario, más adelante moveremos este archivo al directorio del proyecto*"
   ]
  },
  {
   "cell_type": "markdown",
   "id": "38c1f394",
   "metadata": {},
   "source": [
    "## IMPORTAR PAQUETES"
   ]
  },
  {
   "cell_type": "code",
   "execution_count": 1,
   "id": "3999be08",
   "metadata": {},
   "outputs": [],
   "source": [
    "import os\n",
    "import numpy as np\n",
    "import pandas as pd\n",
    "\n",
    "#Automcompletar rápido\n",
    "%config IPCompleter.greedy=True"
   ]
  },
  {
   "cell_type": "markdown",
   "id": "c9ffac2b",
   "metadata": {},
   "source": [
    "## CREAR EL DIRECTORIO DEL PROYECTO"
   ]
  },
  {
   "cell_type": "markdown",
   "id": "6c77a963",
   "metadata": {},
   "source": [
    "### Definir el directorio raiz donde vamos a crear el proyecto"
   ]
  },
  {
   "cell_type": "code",
   "execution_count": 4,
   "id": "a29ba8e1",
   "metadata": {},
   "outputs": [],
   "source": [
    "#Ubicamos el proyecto y el nombre \n",
    "raiz = 'C:/Users/Oscar/OneDrive - FM4/Escritorio/Python Data Mastery/EstructuraDirectorio/03_MACHINE_LEARNING/'\n",
    "nombre_carpeta = '08_CASOS/'\n",
    "nombre_proyecto = '003_RIESGOS'\n",
    "path = raiz + nombre_carpeta + nombre_proyecto"
   ]
  },
  {
   "cell_type": "markdown",
   "id": "d2ba9002",
   "metadata": {},
   "source": [
    "### Crear el directorio y la estructura del proyecto"
   ]
  },
  {
   "cell_type": "code",
   "execution_count": 7,
   "id": "24cbbc0a",
   "metadata": {},
   "outputs": [
    {
     "name": "stdout",
     "output_type": "stream",
     "text": [
      "La creación del directorio C:/Users/Oscar/OneDrive - FM4/Escritorio/Python Data Mastery/EstructuraDirectorio/03_MACHINE_LEARNING/08_CASOS/003_RIESGOS ha fallado\n"
     ]
    }
   ],
   "source": [
    "#Definimos la estructura de carpetas y la jerarquía que creará. Si quisieramos mas jerarquía, la pondríamos como carpeta \n",
    "# try:\n",
    "#     os.mkdir(path)\n",
    "#     os.mkdir(path + '/01_Documentos')\n",
    "#     os.mkdir(path + '/02_Datos')\n",
    "#     os.mkdir(path + '/02_Datos/01_Originales')\n",
    "#     os.mkdir(path + '/02_Datos/02_Validacion')\n",
    "#     os.mkdir(path + '/02_Datos/03_Trabajo')\n",
    "#     os.mkdir(path + '/02_Datos/04_Caches')\n",
    "#     os.mkdir(path + '/03_Notebooks')\n",
    "#     os.mkdir(path + '/03_Notebooks/01_Funciones')\n",
    "#     os.mkdir(path + '/03_Notebooks/02_Desarrollo')\n",
    "#     os.mkdir(path + '/03_Notebooks/03_Sistema')\n",
    "#     os.mkdir(path + '/04_Modelos')\n",
    "#     os.mkdir(path + '/05_Resultados')\n",
    "#     os.mkdir(path + '/09_Otros')\n",
    "    \n",
    "# except OSError:\n",
    "#     print (\"La creación del directorio %s ha fallado\" % path)\n",
    "# else:\n",
    "#     print (\"Se ha creado satisfactoriamente el directorio %s \" % path)\n",
    "\n",
    "#Situar el directorio de trabajo en el proyecto\n",
    "os.chdir(path)\n",
    "\n",
    "#Buscar el archivo del entorno del proyecto que tendrá el nombre definido arriba (termina en .yml) y moverlo\n",
    "#de la ubicación del ordenador C:\\Users\\tu_usuario a  la carpeta del proyecto /01_Documentos"
   ]
  },
  {
   "cell_type": "markdown",
   "id": "2e35e661",
   "metadata": {},
   "source": [
    "### Situar el directorio de trabajo en el proyecto"
   ]
  },
  {
   "cell_type": "code",
   "execution_count": 8,
   "id": "8cd32de3",
   "metadata": {},
   "outputs": [],
   "source": [
    "os.chdir(path)"
   ]
  },
  {
   "cell_type": "markdown",
   "id": "41189bbf",
   "metadata": {},
   "source": [
    "### Mover el environment.yml"
   ]
  },
  {
   "cell_type": "markdown",
   "id": "12cb18d3",
   "metadata": {},
   "source": [
    "Buscar manualmente el archivo 003_riesgos.yml, que posiblemente lo haya ubicado en C:\\Users\\tu_usuario y moverlo a la carpeta '/01_Documentos'"
   ]
  },
  {
   "cell_type": "markdown",
   "id": "771eb460",
   "metadata": {},
   "source": [
    "## CREAR LOS DATASETS INICIALES"
   ]
  },
  {
   "cell_type": "markdown",
   "id": "db1c95e0",
   "metadata": {},
   "source": [
    "* Poner los datos originales en la carpeta '/02_Datos/01_Originales'\n",
    "* Traer el excel de transformaciones y procesos a la carpeta '/01_Documentos'"
   ]
  },
  {
   "cell_type": "markdown",
   "id": "85e2046e",
   "metadata": {},
   "source": [
    "### Importar los datos"
   ]
  },
  {
   "cell_type": "markdown",
   "id": "eccbac1a",
   "metadata": {},
   "source": [
    "Sustituir el nombre_fichero_datos."
   ]
  },
  {
   "cell_type": "code",
   "execution_count": 9,
   "id": "daea5e77",
   "metadata": {},
   "outputs": [],
   "source": [
    "nombre_fichero_datos = 'prestamos.csv'"
   ]
  },
  {
   "cell_type": "markdown",
   "id": "2a1dadbe",
   "metadata": {},
   "source": [
    "Cargar los datos."
   ]
  },
  {
   "cell_type": "code",
   "execution_count": 10,
   "id": "f6fa3b34",
   "metadata": {},
   "outputs": [
    {
     "data": {
      "text/html": [
       "<div>\n",
       "<style scoped>\n",
       "    .dataframe tbody tr th:only-of-type {\n",
       "        vertical-align: middle;\n",
       "    }\n",
       "\n",
       "    .dataframe tbody tr th {\n",
       "        vertical-align: top;\n",
       "    }\n",
       "\n",
       "    .dataframe thead th {\n",
       "        text-align: right;\n",
       "    }\n",
       "</style>\n",
       "<table border=\"1\" class=\"dataframe\">\n",
       "  <thead>\n",
       "    <tr style=\"text-align: right;\">\n",
       "      <th></th>\n",
       "      <th>id_cliente</th>\n",
       "      <th>empleo</th>\n",
       "      <th>antigüedad_empleo</th>\n",
       "      <th>ingresos</th>\n",
       "      <th>ingresos_verificados</th>\n",
       "      <th>rating</th>\n",
       "      <th>dti</th>\n",
       "      <th>vivienda</th>\n",
       "      <th>num_hipotecas</th>\n",
       "      <th>num_lineas_credito</th>\n",
       "      <th>...</th>\n",
       "      <th>id_prestamo</th>\n",
       "      <th>descripcion</th>\n",
       "      <th>finalidad</th>\n",
       "      <th>principal</th>\n",
       "      <th>tipo_interes</th>\n",
       "      <th>num_cuotas</th>\n",
       "      <th>imp_cuota</th>\n",
       "      <th>imp_amortizado</th>\n",
       "      <th>estado</th>\n",
       "      <th>imp_recuperado</th>\n",
       "    </tr>\n",
       "  </thead>\n",
       "  <tbody>\n",
       "    <tr>\n",
       "      <th>0</th>\n",
       "      <td>137387967</td>\n",
       "      <td>Hvac technician</td>\n",
       "      <td>3 years</td>\n",
       "      <td>54000.0</td>\n",
       "      <td>Source Verified</td>\n",
       "      <td>A</td>\n",
       "      <td>19.31</td>\n",
       "      <td>MORTGAGE</td>\n",
       "      <td>2.0</td>\n",
       "      <td>10.0</td>\n",
       "      <td>...</td>\n",
       "      <td>NaN</td>\n",
       "      <td>NaN</td>\n",
       "      <td>debt_consolidation</td>\n",
       "      <td>15000.0</td>\n",
       "      <td>7.21</td>\n",
       "      <td>36 months</td>\n",
       "      <td>464.60</td>\n",
       "      <td>2669.06</td>\n",
       "      <td>Current</td>\n",
       "      <td>0.00</td>\n",
       "    </tr>\n",
       "    <tr>\n",
       "      <th>1</th>\n",
       "      <td>4798121</td>\n",
       "      <td>Target Promotions and Marketing,Inc</td>\n",
       "      <td>10+ years</td>\n",
       "      <td>65000.0</td>\n",
       "      <td>Not Verified</td>\n",
       "      <td>D</td>\n",
       "      <td>25.40</td>\n",
       "      <td>RENT</td>\n",
       "      <td>1.0</td>\n",
       "      <td>15.0</td>\n",
       "      <td>...</td>\n",
       "      <td>NaN</td>\n",
       "      <td>NaN</td>\n",
       "      <td>debt_consolidation</td>\n",
       "      <td>10000.0</td>\n",
       "      <td>17.77</td>\n",
       "      <td>36 months</td>\n",
       "      <td>360.38</td>\n",
       "      <td>6362.96</td>\n",
       "      <td>Charged Off</td>\n",
       "      <td>0.00</td>\n",
       "    </tr>\n",
       "    <tr>\n",
       "      <th>2</th>\n",
       "      <td>46641215</td>\n",
       "      <td>Banker</td>\n",
       "      <td>5 years</td>\n",
       "      <td>135000.0</td>\n",
       "      <td>Verified</td>\n",
       "      <td>A</td>\n",
       "      <td>14.68</td>\n",
       "      <td>RENT</td>\n",
       "      <td>0.0</td>\n",
       "      <td>19.0</td>\n",
       "      <td>...</td>\n",
       "      <td>NaN</td>\n",
       "      <td>NaN</td>\n",
       "      <td>debt_consolidation</td>\n",
       "      <td>24000.0</td>\n",
       "      <td>6.39</td>\n",
       "      <td>36 months</td>\n",
       "      <td>734.38</td>\n",
       "      <td>24000.00</td>\n",
       "      <td>Fully Paid</td>\n",
       "      <td>0.00</td>\n",
       "    </tr>\n",
       "    <tr>\n",
       "      <th>3</th>\n",
       "      <td>87998444</td>\n",
       "      <td>executive director</td>\n",
       "      <td>9 years</td>\n",
       "      <td>188000.0</td>\n",
       "      <td>Source Verified</td>\n",
       "      <td>B</td>\n",
       "      <td>11.69</td>\n",
       "      <td>MORTGAGE</td>\n",
       "      <td>3.0</td>\n",
       "      <td>15.0</td>\n",
       "      <td>...</td>\n",
       "      <td>NaN</td>\n",
       "      <td>NaN</td>\n",
       "      <td>credit_card</td>\n",
       "      <td>27000.0</td>\n",
       "      <td>8.99</td>\n",
       "      <td>60 months</td>\n",
       "      <td>560.35</td>\n",
       "      <td>12443.00</td>\n",
       "      <td>Current</td>\n",
       "      <td>0.00</td>\n",
       "    </tr>\n",
       "    <tr>\n",
       "      <th>4</th>\n",
       "      <td>132883631</td>\n",
       "      <td>Subsea Technician</td>\n",
       "      <td>7 years</td>\n",
       "      <td>125000.0</td>\n",
       "      <td>Source Verified</td>\n",
       "      <td>B</td>\n",
       "      <td>9.00</td>\n",
       "      <td>MORTGAGE</td>\n",
       "      <td>1.0</td>\n",
       "      <td>6.0</td>\n",
       "      <td>...</td>\n",
       "      <td>NaN</td>\n",
       "      <td>NaN</td>\n",
       "      <td>debt_consolidation</td>\n",
       "      <td>22000.0</td>\n",
       "      <td>10.90</td>\n",
       "      <td>36 months</td>\n",
       "      <td>719.22</td>\n",
       "      <td>22000.00</td>\n",
       "      <td>Fully Paid</td>\n",
       "      <td>0.00</td>\n",
       "    </tr>\n",
       "    <tr>\n",
       "      <th>...</th>\n",
       "      <td>...</td>\n",
       "      <td>...</td>\n",
       "      <td>...</td>\n",
       "      <td>...</td>\n",
       "      <td>...</td>\n",
       "      <td>...</td>\n",
       "      <td>...</td>\n",
       "      <td>...</td>\n",
       "      <td>...</td>\n",
       "      <td>...</td>\n",
       "      <td>...</td>\n",
       "      <td>...</td>\n",
       "      <td>...</td>\n",
       "      <td>...</td>\n",
       "      <td>...</td>\n",
       "      <td>...</td>\n",
       "      <td>...</td>\n",
       "      <td>...</td>\n",
       "      <td>...</td>\n",
       "      <td>...</td>\n",
       "      <td>...</td>\n",
       "    </tr>\n",
       "    <tr>\n",
       "      <th>199995</th>\n",
       "      <td>51876926</td>\n",
       "      <td>Office Manager</td>\n",
       "      <td>10+ years</td>\n",
       "      <td>42000.0</td>\n",
       "      <td>Not Verified</td>\n",
       "      <td>C</td>\n",
       "      <td>20.85</td>\n",
       "      <td>MORTGAGE</td>\n",
       "      <td>6.0</td>\n",
       "      <td>9.0</td>\n",
       "      <td>...</td>\n",
       "      <td>NaN</td>\n",
       "      <td>NaN</td>\n",
       "      <td>debt_consolidation</td>\n",
       "      <td>8000.0</td>\n",
       "      <td>12.29</td>\n",
       "      <td>36 months</td>\n",
       "      <td>266.83</td>\n",
       "      <td>8000.00</td>\n",
       "      <td>Fully Paid</td>\n",
       "      <td>0.00</td>\n",
       "    </tr>\n",
       "    <tr>\n",
       "      <th>199996</th>\n",
       "      <td>121031962</td>\n",
       "      <td>Owner &amp; President</td>\n",
       "      <td>6 years</td>\n",
       "      <td>111697.0</td>\n",
       "      <td>Verified</td>\n",
       "      <td>B</td>\n",
       "      <td>16.63</td>\n",
       "      <td>MORTGAGE</td>\n",
       "      <td>2.0</td>\n",
       "      <td>10.0</td>\n",
       "      <td>...</td>\n",
       "      <td>NaN</td>\n",
       "      <td>NaN</td>\n",
       "      <td>other</td>\n",
       "      <td>10000.0</td>\n",
       "      <td>9.44</td>\n",
       "      <td>36 months</td>\n",
       "      <td>320.05</td>\n",
       "      <td>4388.51</td>\n",
       "      <td>Current</td>\n",
       "      <td>0.00</td>\n",
       "    </tr>\n",
       "    <tr>\n",
       "      <th>199997</th>\n",
       "      <td>135641397</td>\n",
       "      <td>Sr. Field Engineer</td>\n",
       "      <td>10+ years</td>\n",
       "      <td>285000.0</td>\n",
       "      <td>Source Verified</td>\n",
       "      <td>D</td>\n",
       "      <td>6.02</td>\n",
       "      <td>MORTGAGE</td>\n",
       "      <td>3.0</td>\n",
       "      <td>9.0</td>\n",
       "      <td>...</td>\n",
       "      <td>NaN</td>\n",
       "      <td>NaN</td>\n",
       "      <td>small_business</td>\n",
       "      <td>30000.0</td>\n",
       "      <td>17.47</td>\n",
       "      <td>36 months</td>\n",
       "      <td>1076.62</td>\n",
       "      <td>5387.53</td>\n",
       "      <td>Current</td>\n",
       "      <td>0.00</td>\n",
       "    </tr>\n",
       "    <tr>\n",
       "      <th>199998</th>\n",
       "      <td>53664762</td>\n",
       "      <td>Attorney</td>\n",
       "      <td>8 years</td>\n",
       "      <td>168000.0</td>\n",
       "      <td>Source Verified</td>\n",
       "      <td>E</td>\n",
       "      <td>4.69</td>\n",
       "      <td>RENT</td>\n",
       "      <td>0.0</td>\n",
       "      <td>8.0</td>\n",
       "      <td>...</td>\n",
       "      <td>NaN</td>\n",
       "      <td>NaN</td>\n",
       "      <td>small_business</td>\n",
       "      <td>30050.0</td>\n",
       "      <td>18.25</td>\n",
       "      <td>60 months</td>\n",
       "      <td>767.17</td>\n",
       "      <td>2964.44</td>\n",
       "      <td>Charged Off</td>\n",
       "      <td>2750.88</td>\n",
       "    </tr>\n",
       "    <tr>\n",
       "      <th>199999</th>\n",
       "      <td>94394801</td>\n",
       "      <td>NaN</td>\n",
       "      <td>NaN</td>\n",
       "      <td>80000.0</td>\n",
       "      <td>Not Verified</td>\n",
       "      <td>C</td>\n",
       "      <td>31.49</td>\n",
       "      <td>MORTGAGE</td>\n",
       "      <td>1.0</td>\n",
       "      <td>9.0</td>\n",
       "      <td>...</td>\n",
       "      <td>NaN</td>\n",
       "      <td>NaN</td>\n",
       "      <td>debt_consolidation</td>\n",
       "      <td>10000.0</td>\n",
       "      <td>13.99</td>\n",
       "      <td>36 months</td>\n",
       "      <td>341.73</td>\n",
       "      <td>7096.40</td>\n",
       "      <td>Current</td>\n",
       "      <td>0.00</td>\n",
       "    </tr>\n",
       "  </tbody>\n",
       "</table>\n",
       "<p>200000 rows × 25 columns</p>\n",
       "</div>"
      ],
      "text/plain": [
       "        id_cliente                               empleo antigüedad_empleo  \\\n",
       "0        137387967                     Hvac technician            3 years   \n",
       "1          4798121  Target Promotions and Marketing,Inc         10+ years   \n",
       "2         46641215                               Banker           5 years   \n",
       "3         87998444                   executive director           9 years   \n",
       "4        132883631                    Subsea Technician           7 years   \n",
       "...            ...                                  ...               ...   \n",
       "199995    51876926                       Office Manager         10+ years   \n",
       "199996   121031962                    Owner & President           6 years   \n",
       "199997   135641397                   Sr. Field Engineer         10+ years   \n",
       "199998    53664762                             Attorney           8 years   \n",
       "199999    94394801                                  NaN               NaN   \n",
       "\n",
       "        ingresos ingresos_verificados rating    dti  vivienda  num_hipotecas  \\\n",
       "0        54000.0      Source Verified      A  19.31  MORTGAGE            2.0   \n",
       "1        65000.0         Not Verified      D  25.40      RENT            1.0   \n",
       "2       135000.0             Verified      A  14.68      RENT            0.0   \n",
       "3       188000.0      Source Verified      B  11.69  MORTGAGE            3.0   \n",
       "4       125000.0      Source Verified      B   9.00  MORTGAGE            1.0   \n",
       "...          ...                  ...    ...    ...       ...            ...   \n",
       "199995   42000.0         Not Verified      C  20.85  MORTGAGE            6.0   \n",
       "199996  111697.0             Verified      B  16.63  MORTGAGE            2.0   \n",
       "199997  285000.0      Source Verified      D   6.02  MORTGAGE            3.0   \n",
       "199998  168000.0      Source Verified      E   4.69      RENT            0.0   \n",
       "199999   80000.0         Not Verified      C  31.49  MORTGAGE            1.0   \n",
       "\n",
       "        num_lineas_credito  ...  id_prestamo  descripcion           finalidad  \\\n",
       "0                     10.0  ...          NaN          NaN  debt_consolidation   \n",
       "1                     15.0  ...          NaN          NaN  debt_consolidation   \n",
       "2                     19.0  ...          NaN          NaN  debt_consolidation   \n",
       "3                     15.0  ...          NaN          NaN         credit_card   \n",
       "4                      6.0  ...          NaN          NaN  debt_consolidation   \n",
       "...                    ...  ...          ...          ...                 ...   \n",
       "199995                 9.0  ...          NaN          NaN  debt_consolidation   \n",
       "199996                10.0  ...          NaN          NaN               other   \n",
       "199997                 9.0  ...          NaN          NaN      small_business   \n",
       "199998                 8.0  ...          NaN          NaN      small_business   \n",
       "199999                 9.0  ...          NaN          NaN  debt_consolidation   \n",
       "\n",
       "        principal  tipo_interes  num_cuotas imp_cuota imp_amortizado  \\\n",
       "0         15000.0          7.21   36 months    464.60        2669.06   \n",
       "1         10000.0         17.77   36 months    360.38        6362.96   \n",
       "2         24000.0          6.39   36 months    734.38       24000.00   \n",
       "3         27000.0          8.99   60 months    560.35       12443.00   \n",
       "4         22000.0         10.90   36 months    719.22       22000.00   \n",
       "...           ...           ...         ...       ...            ...   \n",
       "199995     8000.0         12.29   36 months    266.83        8000.00   \n",
       "199996    10000.0          9.44   36 months    320.05        4388.51   \n",
       "199997    30000.0         17.47   36 months   1076.62        5387.53   \n",
       "199998    30050.0         18.25   60 months    767.17        2964.44   \n",
       "199999    10000.0         13.99   36 months    341.73        7096.40   \n",
       "\n",
       "             estado  imp_recuperado  \n",
       "0           Current            0.00  \n",
       "1       Charged Off            0.00  \n",
       "2        Fully Paid            0.00  \n",
       "3           Current            0.00  \n",
       "4        Fully Paid            0.00  \n",
       "...             ...             ...  \n",
       "199995   Fully Paid            0.00  \n",
       "199996      Current            0.00  \n",
       "199997      Current            0.00  \n",
       "199998  Charged Off         2750.88  \n",
       "199999      Current            0.00  \n",
       "\n",
       "[200000 rows x 25 columns]"
      ]
     },
     "execution_count": 10,
     "metadata": {},
     "output_type": "execute_result"
    }
   ],
   "source": [
    "ruta_completa = path + '/02_Datos/01_Originales/' + nombre_fichero_datos\n",
    "\n",
    "datos = pd.read_csv(ruta_completa)\n",
    "datos"
   ]
  },
  {
   "cell_type": "markdown",
   "id": "cb008840",
   "metadata": {},
   "source": [
    "### Extraer y reservar el dataset de validación"
   ]
  },
  {
   "cell_type": "code",
   "execution_count": 11,
   "id": "f9aed0f6",
   "metadata": {},
   "outputs": [],
   "source": [
    "val= datos.sample(frac = 0.3)"
   ]
  },
  {
   "cell_type": "code",
   "execution_count": 12,
   "id": "c9ed1ef9",
   "metadata": {},
   "outputs": [],
   "source": [
    "nombre_fichero_validacion = 'validacion.csv'\n",
    "\n",
    "ruta_completa = path + '/02_Datos/02_Validacion/' + nombre_fichero_validacion\n",
    "\n",
    "val.to_csv(ruta_completa)"
   ]
  },
  {
   "cell_type": "markdown",
   "id": "8961d159",
   "metadata": {},
   "source": [
    "### Extraer y guardar el dataset de trabajo"
   ]
  },
  {
   "cell_type": "code",
   "execution_count": 13,
   "id": "2b15f4ff",
   "metadata": {},
   "outputs": [],
   "source": [
    "trabajo = datos.loc[~datos.index.isin(val.index)]"
   ]
  },
  {
   "cell_type": "code",
   "execution_count": 14,
   "id": "1c4e37fa",
   "metadata": {},
   "outputs": [],
   "source": [
    "nombre_fichero_trabajo = 'trabajo.csv'\n",
    "\n",
    "ruta_completa = path + '/02_Datos/03_Trabajo/' + nombre_fichero_trabajo\n",
    "\n",
    "trabajo.to_csv(ruta_completa)"
   ]
  },
  {
   "cell_type": "markdown",
   "id": "ebe9b2e0",
   "metadata": {},
   "source": [
    "### Extraer y guardar una muestra (opcional)"
   ]
  },
  {
   "cell_type": "markdown",
   "id": "49a68816",
   "metadata": {},
   "source": [
    "No haremos muestra en este proyecto."
   ]
  }
 ],
 "metadata": {
  "hide_input": false,
  "kernelspec": {
   "display_name": "Python 3 (ipykernel)",
   "language": "python",
   "name": "python3"
  },
  "language_info": {
   "codemirror_mode": {
    "name": "ipython",
    "version": 3
   },
   "file_extension": ".py",
   "mimetype": "text/x-python",
   "name": "python",
   "nbconvert_exporter": "python",
   "pygments_lexer": "ipython3",
   "version": "3.11.11"
  },
  "nbTranslate": {
   "displayLangs": [
    "*"
   ],
   "hotkey": "alt-t",
   "langInMainMenu": true,
   "sourceLang": "en",
   "targetLang": "fr",
   "useGoogleTranslate": true
  },
  "toc": {
   "base_numbering": 1,
   "nav_menu": {},
   "number_sections": true,
   "sideBar": true,
   "skip_h1_title": false,
   "title_cell": "Table of Contents",
   "title_sidebar": "Contents",
   "toc_cell": false,
   "toc_position": {
    "height": "calc(100% - 180px)",
    "left": "10px",
    "top": "150px",
    "width": "346.133px"
   },
   "toc_section_display": true,
   "toc_window_display": false
  },
  "varInspector": {
   "cols": {
    "lenName": 16,
    "lenType": 16,
    "lenVar": 40
   },
   "kernels_config": {
    "python": {
     "delete_cmd_postfix": "",
     "delete_cmd_prefix": "del ",
     "library": "var_list.py",
     "varRefreshCmd": "print(var_dic_list())"
    },
    "r": {
     "delete_cmd_postfix": ") ",
     "delete_cmd_prefix": "rm(",
     "library": "var_list.r",
     "varRefreshCmd": "cat(var_dic_list()) "
    }
   },
   "types_to_exclude": [
    "module",
    "function",
    "builtin_function_or_method",
    "instance",
    "_Feature"
   ],
   "window_display": false
  }
 },
 "nbformat": 4,
 "nbformat_minor": 5
}
