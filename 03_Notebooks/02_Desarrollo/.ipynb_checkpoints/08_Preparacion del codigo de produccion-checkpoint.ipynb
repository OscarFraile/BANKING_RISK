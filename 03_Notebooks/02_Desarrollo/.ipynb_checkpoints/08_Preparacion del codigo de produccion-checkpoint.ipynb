{
 "cells": [
  {
   "cell_type": "markdown",
   "id": "049afd85",
   "metadata": {},
   "source": [
    "## IMPORTAR LAS LIBRERIAS"
   ]
  },
  {
   "cell_type": "markdown",
   "id": "3b63202a",
   "metadata": {},
   "source": [
    "Actualizar a las que se usen finalmente en tu proyecto."
   ]
  },
  {
   "cell_type": "code",
   "execution_count": 1,
   "id": "95e3a038",
   "metadata": {},
   "outputs": [],
   "source": [
    "import os\n",
    "import numpy as np\n",
    "import pandas as pd\n",
    "import pickle  \n",
    "\n",
    "#Automcompletar rápido\n",
    "%config IPCompleter.greedy=True\n",
    "\n",
    "#Desactivar la notación científica\n",
    "pd.options.display.float_format = '{:.2f}'.format\n",
    "\n",
    "#Desactivar los warnings\n",
    "import warnings\n",
    "warnings.filterwarnings(\"ignore\")\n",
    "\n",
    "#Mostrar el máximo de filas posibles de una tabla\n",
    "pd.set_option('display.max_rows', 100) #Número de filas que deben verse. None = Máx\n",
    "\n",
    "#Mostrar mas caracteres de las columnas. Se usa cuando se corta el texto\n",
    "pd.set_option('display.max_colwidth', None) #Número de caractres que deben verse. None = Máx\n",
    "\n",
    "#Representación visual de un pipeline\n",
    "from sklearn import set_config\n",
    "set_config(display = 'diagram') #diagram/text \n",
    "\n",
    "#Transformación de variables\n",
    "from janitor import clean_names\n",
    "from sklearn.pipeline import Pipeline\n",
    "from sklearn.preprocessing import FunctionTransformer\n",
    "from sklearn.compose import make_column_transformer\n",
    "from sklearn.pipeline import make_pipeline\n",
    "from sklearn.model_selection import GridSearchCV\n",
    "from sklearn.model_selection import RandomizedSearchCV\n",
    "\n",
    "from sklearn.preprocessing import OneHotEncoder\n",
    "from sklearn.preprocessing import OrdinalEncoder\n",
    "from sklearn.preprocessing import Binarizer\n",
    "from sklearn.preprocessing import MinMaxScaler\n",
    "\n",
    "#Modelos ML: CLASIFICACIÓN\n",
    "from sklearn.model_selection import train_test_split\n",
    "from sklearn.linear_model import LogisticRegression\n",
    "#Métrica de error: Habrá que incluir la que necesitemos\n",
    "from sklearn.metrics import roc_auc_score\n",
    "\n",
    "#Modelos ML: REGRESIÓN\n",
    "from sklearn.model_selection import train_test_split\n",
    "from sklearn.ensemble import HistGradientBoostingRegressor\n",
    "#Métrica de error: Habrá que incluir la que necesitemos\n",
    "from sklearn.metrics import mean_absolute_error\n"
   ]
  },
  {
   "cell_type": "markdown",
   "id": "341eadea",
   "metadata": {},
   "source": [
    "## CARGAR LOS DATOS"
   ]
  },
  {
   "cell_type": "markdown",
   "id": "dfe6899a",
   "metadata": {},
   "source": [
    "### Ruta del proyecto"
   ]
  },
  {
   "cell_type": "code",
   "execution_count": 2,
   "id": "9a9ca4b4",
   "metadata": {
    "ExecuteTime": {
     "end_time": "2024-04-23T11:18:34.485872Z",
     "start_time": "2024-04-23T11:18:34.480588Z"
    }
   },
   "outputs": [],
   "source": [
    "ruta_proyecto = 'C:/Users/Oscar/OneDrive - FM4/Escritorio/Python Data Mastery/EstructuraDirectorio/03_MACHINE_LEARNING/08_CASOS/003_RIESGOS'"
   ]
  },
  {
   "cell_type": "markdown",
   "id": "0009fa21",
   "metadata": {},
   "source": [
    "### Nombre del fichero de datos"
   ]
  },
  {
   "cell_type": "code",
   "execution_count": 3,
   "id": "b26f66ee",
   "metadata": {
    "ExecuteTime": {
     "end_time": "2024-04-23T11:18:37.171769Z",
     "start_time": "2024-04-23T11:18:37.167093Z"
    }
   },
   "outputs": [],
   "source": [
    "nombre_fichero_datos = 'prestamos.csv'"
   ]
  },
  {
   "cell_type": "markdown",
   "id": "954897f0",
   "metadata": {},
   "source": [
    "### Cargar los datos"
   ]
  },
  {
   "cell_type": "code",
   "execution_count": 4,
   "id": "0e5292ee",
   "metadata": {
    "ExecuteTime": {
     "end_time": "2024-04-23T11:18:39.751956Z",
     "start_time": "2024-04-23T11:18:38.709835Z"
    }
   },
   "outputs": [],
   "source": [
    "ruta_completa = ruta_proyecto + '/02_Datos/01_Originales/' + nombre_fichero_datos\n",
    "\n",
    "df = pd.read_csv(ruta_completa,index_col=0)"
   ]
  },
  {
   "cell_type": "markdown",
   "id": "39f808fc",
   "metadata": {},
   "source": [
    "### Seleccionar solo las variables finales"
   ]
  },
  {
   "cell_type": "markdown",
   "id": "367af70e",
   "metadata": {},
   "source": [
    "#### Apuntar (manualmente) la lista de variables finales sin extensiones"
   ]
  },
  {
   "cell_type": "code",
   "execution_count": 5,
   "id": "ba704b98",
   "metadata": {
    "ExecuteTime": {
     "end_time": "2024-04-23T11:18:41.920953Z",
     "start_time": "2024-04-23T11:18:41.914646Z"
    }
   },
   "outputs": [],
   "source": [
    "#Metemos todas las variables usadas con sus nombres originales. Algunas de las variables incluidas las hemos borrado en pasos\n",
    "#posteriores pero, esas variables, las hemos usado para hacer transformaciones, así que hay que incluirlas. Son:'estado', \n",
    "#'imp_amortizado', 'imp_recuperado'\n",
    "\n",
    "variables_finales = ['antigüedad_empleo',\n",
    "                     'ingresos_verificados',\n",
    "                     'rating',\n",
    "                     'vivienda',\n",
    "                     'finalidad',\n",
    "                     'num_cuotas',\n",
    "                     'ingresos',\n",
    "                     'dti',\n",
    "                     'num_hipotecas',\n",
    "                     'num_lineas_credito',\n",
    "                     'porc_tarjetas_75p',\n",
    "                     'porc_uso_revolving',\n",
    "                     'num_cancelaciones_12meses',\n",
    "                     'num_derogatorios',\n",
    "                     'num_meses_desde_ult_retraso',\n",
    "                     'principal',\n",
    "                     'tipo_interes',\n",
    "                     'imp_cuota',\n",
    "                     'imp_amortizado',\n",
    "                     'imp_recuperado',\n",
    "                     'estado'\n",
    "                    ]"
   ]
  },
  {
   "cell_type": "markdown",
   "id": "bd0fe952",
   "metadata": {},
   "source": [
    "#### Crear la matriz de variables procesos (excel)"
   ]
  },
  {
   "cell_type": "markdown",
   "id": "8dbf66e2",
   "metadata": {},
   "source": [
    "Ir a la plantilla de Excel \"Fase Producción Plantilla Procesos\" y crear la matriz de variables por procesos."
   ]
  },
  {
   "cell_type": "markdown",
   "id": "1daf0462",
   "metadata": {},
   "source": [
    "#### Actualizar las importaciones"
   ]
  },
  {
   "cell_type": "markdown",
   "id": "87c95327",
   "metadata": {},
   "source": [
    "Ir arriba a la celda de importacion de paquetes y actualizarlos con los que finalmente vamos a usar."
   ]
  },
  {
   "cell_type": "markdown",
   "id": "6ac78431",
   "metadata": {},
   "source": [
    "## ESTRUCTURA DE LOS DATASETS"
   ]
  },
  {
   "cell_type": "markdown",
   "id": "5e67fa34",
   "metadata": {},
   "source": [
    "### Eliminar registros"
   ]
  },
  {
   "cell_type": "markdown",
   "id": "30850a85",
   "metadata": {},
   "source": [
    "#### Por atípicos"
   ]
  },
  {
   "cell_type": "code",
   "execution_count": 6,
   "id": "aff7e4fe",
   "metadata": {
    "ExecuteTime": {
     "end_time": "2024-04-23T11:18:47.060975Z",
     "start_time": "2024-04-23T11:18:47.042148Z"
    }
   },
   "outputs": [],
   "source": [
    "a_eliminar = df.loc[df.ingresos > 300000].index.values"
   ]
  },
  {
   "cell_type": "code",
   "execution_count": 7,
   "id": "9b45e5bd",
   "metadata": {
    "ExecuteTime": {
     "end_time": "2024-04-23T11:18:48.054369Z",
     "start_time": "2024-04-23T11:18:47.957593Z"
    }
   },
   "outputs": [],
   "source": [
    "df = df[~df.index.isin(a_eliminar)]"
   ]
  },
  {
   "cell_type": "markdown",
   "id": "ecb6aa73",
   "metadata": {},
   "source": [
    "### Seleccionar variables"
   ]
  },
  {
   "cell_type": "markdown",
   "id": "55218758",
   "metadata": {},
   "source": [
    "Quedarse solo con las de la lista."
   ]
  },
  {
   "cell_type": "code",
   "execution_count": 8,
   "id": "7379fac2",
   "metadata": {
    "ExecuteTime": {
     "end_time": "2024-04-23T11:18:50.121076Z",
     "start_time": "2024-04-23T11:18:50.076047Z"
    }
   },
   "outputs": [],
   "source": [
    "df = df[variables_finales]"
   ]
  },
  {
   "cell_type": "markdown",
   "id": "7b4bc9d1",
   "metadata": {},
   "source": [
    "## CREAR EL PIPELINE"
   ]
  },
  {
   "cell_type": "markdown",
   "id": "bc5fb0b7",
   "metadata": {},
   "source": [
    "### Instanciar calidad de datos"
   ]
  },
  {
   "cell_type": "markdown",
   "id": "a4b27e2d",
   "metadata": {},
   "source": [
    "#### Crear la función"
   ]
  },
  {
   "cell_type": "code",
   "execution_count": 9,
   "id": "213935ad",
   "metadata": {},
   "outputs": [],
   "source": [
    "def calidad_datos(temp):\n",
    "    # Limpiar nombres de columnas\n",
    "    temp = clean_names(temp)\n",
    "    \n",
    "    # Rellenar nulos de columna 'antiguedad_empleo'\n",
    "    temp['antiguedad_empleo'] = temp['antiguedad_empleo'].fillna('desconocido')\n",
    "    \n",
    "    # Eliminar dato extraño\n",
    "    temp.drop(index=16130949)\n",
    "   \n",
    "    # Subfunción para categorizar 'porc_tarjetas_75p'\n",
    "    def categorizar_tarjetas(porc):\n",
    "        if porc <= 10:\n",
    "            return '<10%'\n",
    "        elif porc <= 75:\n",
    "            return '11-75%'\n",
    "        else:\n",
    "            return '>75%'\n",
    "    \n",
    "    # Crear nueva columna categorizada\n",
    "    if 'porc_tarjetas_75p' in temp.columns:\n",
    "        temp['cat_tarjetas_75p'] = temp['porc_tarjetas_75p'].apply(categorizar_tarjetas)\n",
    "    \n",
    "    # Sustituimos por 0 los créditos que tienen los estados de impago y por 999 el resto que no han registrado nunca impagos\n",
    "    temp['num_meses_desde_ult_retraso'] = np.where((temp.num_meses_desde_ult_retraso.isna())\n",
    "                                               &(temp.estado.isin(['Charged Off',\n",
    "                                                                   'Does not meet the credit policy. Status:Charged Off',\n",
    "                                                                   'Default'])),\n",
    "                                               temp['num_meses_desde_ult_retraso'].fillna(0),\n",
    "                                               temp['num_meses_desde_ult_retraso'].fillna(999))\n",
    "    \n",
    "    # Rellenar nulos en el resto de columnas numéricas con 0\n",
    "    for column in temp.select_dtypes('number').columns:\n",
    "        temp[column] = temp[column].fillna(0)\n",
    "    \n",
    "    #Imputar por desviación típica\n",
    "    def atipicos_desv_tip(variable, num_desv_tip = 4):\n",
    "        #sacamos los nulos por ahora\n",
    "        variable = variable.dropna()\n",
    "        #calculamos los límites\n",
    "        media = np.mean(variable)\n",
    "        sd = np.std(variable)\n",
    "        umbral = sd * num_desv_tip\n",
    "        lim_inf = media - umbral\n",
    "        lim_sup = media + umbral\n",
    "        #encontramos los índices de los que están fuera de los límites\n",
    "        indices = [indice for indice,valor in variable.items() if valor < lim_inf or valor > lim_sup]\n",
    "        return(indices)\n",
    "    var_atipicos_desv_tip = ['ingresos','num_hipotecas','principal','imp_cuota','imp_recuperado']\n",
    "    \n",
    "    #Winsorización manual\n",
    "    temp['porc_uso_revolving'] = temp['porc_uso_revolving'].clip(0, 100)\n",
    "    temp['dti'] = temp['dti'].clip(0, 100)    \n",
    "\n",
    "    return temp"
   ]
  },
  {
   "cell_type": "markdown",
   "id": "cc7a1df0",
   "metadata": {},
   "source": [
    "### Instanciar creación de variables"
   ]
  },
  {
   "cell_type": "markdown",
   "id": "232e97df",
   "metadata": {},
   "source": [
    "Dado que la creación de variables es diferente para los 3 modelos necesitamos construir 3 funciones."
   ]
  },
  {
   "cell_type": "markdown",
   "id": "56967372",
   "metadata": {},
   "source": [
    "#### Crear las funciones"
   ]
  },
  {
   "cell_type": "code",
   "execution_count": 10,
   "id": "25c8be4f",
   "metadata": {
    "ExecuteTime": {
     "end_time": "2024-04-23T11:18:56.828619Z",
     "start_time": "2024-04-23T11:18:56.821225Z"
    }
   },
   "outputs": [],
   "source": [
    "def creacion_variables_pd(df):\n",
    "    \n",
    "    temp = df.copy()\n",
    "    \n",
    "    temp['target_pd'] = np.where(temp.estado.isin(['Charged Off','Does not meet the credit policy. Status:Charged Off','Default']), 1, 0)\n",
    "    \n",
    "    temp.vivienda = temp.vivienda.replace(['ANY','NONE','OTHER'],'MORTGAGE')\n",
    "    \n",
    "    temp.finalidad = temp.finalidad.replace(['wedding','educational','renewable_energy'],'otros')\n",
    "    \n",
    "    #Eliminamos las variables que ya no usaremos\n",
    "    #'estado' la hemos usado para generar la target por lo que no podemos usarla para predecir\n",
    "    #'imp_amortizado','imp_recuperado' las eliminamos porque no las tendremos cuando queramos hacer una predicción de riesgos\n",
    "    #en el futuro porque no tendrán datos, por lo que no tiene sentido que las usemos para predecir ahora que están informadas\n",
    "    temp.drop(columns = ['estado','imp_amortizado','imp_recuperado'],inplace = True)\n",
    "    \n",
    "    #Separamos entre predictoras y target\n",
    "    temp_x = temp.iloc[:,:-1]\n",
    "    temp_y = temp.iloc[:,-1]\n",
    "    \n",
    "    return(temp_x,temp_y)"
   ]
  },
  {
   "cell_type": "code",
   "execution_count": 11,
   "id": "a77fd7b4",
   "metadata": {
    "ExecuteTime": {
     "end_time": "2024-04-23T11:18:57.617975Z",
     "start_time": "2024-04-23T11:18:57.608744Z"
    }
   },
   "outputs": [],
   "source": [
    "def creacion_variables_ead(df):\n",
    "    \n",
    "    temp = df.copy()\n",
    "    \n",
    "    temp['pendiente'] = temp.principal - temp.imp_amortizado\n",
    "    \n",
    "    temp['target_ead'] = temp.pendiente / temp.principal\n",
    "    \n",
    "    temp.vivienda = temp.vivienda.replace(['ANY','NONE','OTHER'],'MORTGAGE')\n",
    "    \n",
    "    temp.finalidad = temp.finalidad.replace(['wedding','educational','renewable_energy'],'otros')\n",
    "    \n",
    "    #Eliminamos las variables que ya no usaremos\n",
    "    #'estado' la hemos usado para generar la target por lo que no podemos usarla para predecir\n",
    "    #'imp_amortizado','imp_recuperado' las eliminamos porque no las tendremos cuando queramos hacer una predicción de riesgos\n",
    "    #en el futuro porque no tendrán datos, por lo que no tiene sentido que las usemos para predecir ahora que están informadas\n",
    "    temp.drop(columns = ['estado','imp_amortizado','imp_recuperado'],inplace = True)\n",
    "    \n",
    "    #Separamos entre predictoras y target\n",
    "    temp_x = temp.iloc[:,:-1]\n",
    "    temp_y = temp.iloc[:,-1]\n",
    "    \n",
    "    return(temp_x,temp_y)"
   ]
  },
  {
   "cell_type": "code",
   "execution_count": 12,
   "id": "8a9a8b99",
   "metadata": {
    "ExecuteTime": {
     "end_time": "2024-04-23T11:18:58.199064Z",
     "start_time": "2024-04-23T11:18:58.189182Z"
    }
   },
   "outputs": [],
   "source": [
    "def creacion_variables_lgd(df):\n",
    "    \n",
    "    temp = df.copy()\n",
    "    \n",
    "    temp['pendiente'] = temp.principal - temp.imp_amortizado\n",
    "    \n",
    "    temp['target_lgd'] = 1 - (temp.imp_recuperado / temp.pendiente)\n",
    "    \n",
    "    temp['target_lgd'].fillna(0,inplace=True)\n",
    "    \n",
    "    temp.vivienda = temp.vivienda.replace(['ANY','NONE','OTHER'],'MORTGAGE')\n",
    "    \n",
    "    temp.finalidad = temp.finalidad.replace(['wedding','educational','renewable_energy'],'otros')\n",
    "    \n",
    "    #Eliminamos las variables que ya no usaremos\n",
    "    #'estado' la hemos usado para generar la target por lo que no podemos usarla para predecir\n",
    "    #'imp_amortizado','imp_recuperado' las eliminamos porque no las tendremos cuando queramos hacer una predicción de riesgos\n",
    "    #en el futuro porque no tendrán datos, por lo que no tiene sentido que las usemos para predecir ahora que están informadas\n",
    "    temp.drop(columns = ['estado','imp_amortizado','imp_recuperado','pendiente'],inplace = True)\n",
    "    \n",
    "    #Separamos entre predictoras y target\n",
    "    temp_x = temp.iloc[:,:-1]\n",
    "    temp_y = temp.iloc[:,-1]\n",
    "    \n",
    "    return(temp_x,temp_y)"
   ]
  },
  {
   "cell_type": "markdown",
   "id": "a9e7d031",
   "metadata": {},
   "source": [
    "#### Crear los dataframes de X e y"
   ]
  },
  {
   "cell_type": "code",
   "execution_count": 13,
   "id": "6a0ce41d",
   "metadata": {
    "ExecuteTime": {
     "end_time": "2024-04-23T11:19:00.837197Z",
     "start_time": "2024-04-23T11:18:59.672493Z"
    }
   },
   "outputs": [],
   "source": [
    "x_pd, y_pd = creacion_variables_pd(calidad_datos(df))\n",
    "\n",
    "x_ead, y_ead = creacion_variables_ead(calidad_datos(df))\n",
    "\n",
    "x_lgd, y_lgd = creacion_variables_lgd(calidad_datos(df))"
   ]
  },
  {
   "cell_type": "markdown",
   "id": "73f96a5b",
   "metadata": {},
   "source": [
    "### Instanciar transformación de variables"
   ]
  },
  {
   "cell_type": "code",
   "execution_count": 14,
   "id": "848c5626",
   "metadata": {},
   "outputs": [],
   "source": [
    "#ONE HOT ENCODING\n",
    "var_ohe = [ 'ingresos_verificados', 'vivienda','finalidad','num_cuotas']\n",
    "ohe = OneHotEncoder(sparse_output = False, handle_unknown='ignore')\n",
    "\n",
    "\n",
    "#ORDINAL ENCODING\n",
    "var_oe = ['antiguedad_empleo','rating','cat_tarjetas_75p']\n",
    "\n",
    "orden_antiguedad_empleo = ['desconocido','< 1 year','1 year','2 years','3 years','4 years',\n",
    "                           '5 years','6 years','7 years','8 years','9 years','10+ years']\n",
    "\n",
    "orden_rating = ['A','B','C','D','E','F','G']\n",
    "\n",
    "orden_cat_tarjetas_75p = ['<10%','11-75%','>75%']\n",
    "\n",
    "oe = OrdinalEncoder(categories = [orden_antiguedad_empleo,orden_rating,orden_cat_tarjetas_75p],\n",
    "                    handle_unknown = 'use_encoded_value',\n",
    "                    unknown_value = 12)\n",
    "\n",
    "#BINNING\n",
    "var_bin = ['num_derogatorios']\n",
    "bina = Binarizer(threshold=0)\n",
    "\n",
    "\n",
    "#MIN-MAX SCALING\n",
    "var_mms = ['ingresos','dti','num_lineas_credito','porc_uso_revolving',\n",
    "            'principal','tipo_interes','imp_cuota']\n",
    "mms = MinMaxScaler()\n"
   ]
  },
  {
   "cell_type": "markdown",
   "id": "6ea733be",
   "metadata": {},
   "source": [
    "### Crear el pipe del preprocesamiento"
   ]
  },
  {
   "cell_type": "markdown",
   "id": "46f83a77",
   "metadata": {},
   "source": [
    "#### Crear el column transformer"
   ]
  },
  {
   "cell_type": "code",
   "execution_count": 15,
   "id": "5d8d42d6",
   "metadata": {},
   "outputs": [],
   "source": [
    "ct = make_column_transformer(\n",
    "    (ohe, var_ohe),\n",
    "    (oe, var_oe),\n",
    "#    (te, var_te),\n",
    "#    (disc_ds, var_disc_ds),\n",
    "#    (disc_cs, var_disc_cs),\n",
    "    (bina, var_bin),\n",
    "#    (yeo, var_yeo),    \n",
    "#    (qt, var_qt),\n",
    "    (mms, var_mms),\n",
    "#    (ss, var_ss),\n",
    "#    (rs, var_rs),\n",
    "    remainder='passthrough') #En este caso no hay mas variables porque las hemos usado todas. Podría ser: 'drop' o 'passthrough'"
   ]
  },
  {
   "cell_type": "markdown",
   "id": "c91eeffc",
   "metadata": {},
   "source": [
    "### Instanciar los modelos"
   ]
  },
  {
   "cell_type": "markdown",
   "id": "2f7d1ab3",
   "metadata": {},
   "source": [
    "#### Instanciar los algoritmos"
   ]
  },
  {
   "cell_type": "code",
   "execution_count": 16,
   "id": "043ee190",
   "metadata": {},
   "outputs": [],
   "source": [
    "modelo_pd = LogisticRegression(solver = 'saga', n_jobs=-1, C = 0.25, penalty = 'l1')\n",
    "\n",
    "modelo_ead = HistGradientBoostingRegressor(learning_rate = 0.1,\n",
    "                                          max_iter = 200,\n",
    "                                          max_depth = 10,\n",
    "                                          min_samples_leaf = 100,\n",
    "                                          scoring = 'neg_mean_absolute_percentage_error',\n",
    "                                          l2_regularization = 0.75)\n",
    "\n",
    "modelo_lgd = HistGradientBoostingRegressor(learning_rate = 0.1,\n",
    "                                          max_iter = 200,\n",
    "                                          max_depth = 20,\n",
    "                                          min_samples_leaf = 100,\n",
    "                                          scoring = 'neg_mean_absolute_percentage_error',\n",
    "                                          l2_regularization = 0)"
   ]
  },
  {
   "cell_type": "markdown",
   "id": "85cdb470",
   "metadata": {},
   "source": [
    "#### Crear los pipes finales de entrenamiento"
   ]
  },
  {
   "cell_type": "code",
   "execution_count": 17,
   "id": "9769e21f",
   "metadata": {},
   "outputs": [],
   "source": [
    "pipe_entrenamiento_pd = make_pipeline(ct,modelo_pd)\n",
    "\n",
    "pipe_entrenamiento_ead = make_pipeline(ct,modelo_ead)\n",
    "\n",
    "pipe_entrenamiento_lgd = make_pipeline(ct,modelo_lgd)"
   ]
  },
  {
   "cell_type": "markdown",
   "id": "2bc2763a",
   "metadata": {},
   "source": [
    "#### Guardar el pipe final de entrenamiento\n",
    "\n",
    "Guardamos este código como objeto para poder usarlo en el reentrenamiento futuro"
   ]
  },
  {
   "cell_type": "code",
   "execution_count": 18,
   "id": "516703d6",
   "metadata": {},
   "outputs": [],
   "source": [
    "ruta_pipe_entrenamiento_pd = ruta_proyecto + '/04_Modelos/pipe_entrenamiento_pd.pickle'\n",
    "\n",
    "with open(ruta_pipe_entrenamiento_pd, mode='wb') as file:\n",
    "   pickle.dump(pipe_entrenamiento_pd, file)"
   ]
  },
  {
   "cell_type": "code",
   "execution_count": 19,
   "id": "b34df5c4",
   "metadata": {},
   "outputs": [],
   "source": [
    "ruta_pipe_entrenamiento_ead = ruta_proyecto + '/04_Modelos/pipe_entrenamiento_ead.pickle'\n",
    "\n",
    "with open(ruta_pipe_entrenamiento_ead, mode='wb') as file:\n",
    "   pickle.dump(pipe_entrenamiento_ead, file)"
   ]
  },
  {
   "cell_type": "code",
   "execution_count": 20,
   "id": "bfdc2a7c",
   "metadata": {},
   "outputs": [],
   "source": [
    "ruta_pipe_entrenamiento_lgd = ruta_proyecto + '/04_Modelos/pipe_entrenamiento_lgd.pickle'\n",
    "\n",
    "with open(ruta_pipe_entrenamiento_lgd, mode='wb') as file:\n",
    "   pickle.dump(pipe_entrenamiento_lgd, file)"
   ]
  },
  {
   "cell_type": "markdown",
   "id": "356abc4d",
   "metadata": {},
   "source": [
    "#### Entrenar los pipes"
   ]
  },
  {
   "cell_type": "code",
   "execution_count": 21,
   "id": "7be2fd3d",
   "metadata": {},
   "outputs": [],
   "source": [
    "pipe_ejecucion_pd = pipe_entrenamiento_pd.fit(x_pd,y_pd)\n",
    "pipe_ejecucion_ead = pipe_entrenamiento_ead.fit(x_ead,y_ead)\n",
    "pipe_ejecucion_lgd = pipe_entrenamiento_lgd.fit(x_lgd,y_lgd)"
   ]
  },
  {
   "cell_type": "markdown",
   "id": "87497015",
   "metadata": {},
   "source": [
    "## GUARDAR EL PIPE"
   ]
  },
  {
   "cell_type": "markdown",
   "id": "c7b7d725",
   "metadata": {},
   "source": [
    "### Guardar el pipe final de ejecución"
   ]
  },
  {
   "cell_type": "code",
   "execution_count": 22,
   "id": "21665f64",
   "metadata": {},
   "outputs": [],
   "source": [
    "ruta_pipe_ejecucion_pd = ruta_proyecto + '/04_Modelos/pipe_ejecucion_pd.pickle'\n",
    "\n",
    "with open(ruta_pipe_ejecucion_pd, mode='wb') as file:\n",
    "   pickle.dump(pipe_ejecucion_pd, file)"
   ]
  },
  {
   "cell_type": "code",
   "execution_count": 23,
   "id": "9a54676b",
   "metadata": {},
   "outputs": [],
   "source": [
    "ruta_pipe_ejecucion_ead = ruta_proyecto + '/04_Modelos/pipe_ejecucion_ead.pickle'\n",
    "\n",
    "with open(ruta_pipe_ejecucion_ead, mode='wb') as file:\n",
    "   pickle.dump(pipe_ejecucion_ead, file)"
   ]
  },
  {
   "cell_type": "code",
   "execution_count": 24,
   "id": "b7590c72",
   "metadata": {},
   "outputs": [],
   "source": [
    "ruta_pipe_ejecucion_lgd = ruta_proyecto + '/04_Modelos/pipe_ejecucion_lgd.pickle'\n",
    "\n",
    "with open(ruta_pipe_ejecucion_lgd, mode='wb') as file:\n",
    "   pickle.dump(pipe_ejecucion_lgd, file)"
   ]
  },
  {
   "cell_type": "code",
   "execution_count": null,
   "id": "2d683c66",
   "metadata": {},
   "outputs": [],
   "source": []
  }
 ],
 "metadata": {
  "hide_input": false,
  "kernelspec": {
   "display_name": "Python 3 (ipykernel)",
   "language": "python",
   "name": "python3"
  },
  "language_info": {
   "codemirror_mode": {
    "name": "ipython",
    "version": 3
   },
   "file_extension": ".py",
   "mimetype": "text/x-python",
   "name": "python",
   "nbconvert_exporter": "python",
   "pygments_lexer": "ipython3",
   "version": "3.11.11"
  },
  "nbTranslate": {
   "displayLangs": [
    "*"
   ],
   "hotkey": "alt-t",
   "langInMainMenu": true,
   "sourceLang": "en",
   "targetLang": "fr",
   "useGoogleTranslate": true
  },
  "toc": {
   "base_numbering": 1,
   "nav_menu": {},
   "number_sections": true,
   "sideBar": true,
   "skip_h1_title": false,
   "title_cell": "Table of Contents",
   "title_sidebar": "Contents",
   "toc_cell": false,
   "toc_position": {
    "height": "calc(100% - 180px)",
    "left": "10px",
    "top": "150px",
    "width": "383.367px"
   },
   "toc_section_display": true,
   "toc_window_display": false
  },
  "varInspector": {
   "cols": {
    "lenName": 16,
    "lenType": 16,
    "lenVar": 40
   },
   "kernels_config": {
    "python": {
     "delete_cmd_postfix": "",
     "delete_cmd_prefix": "del ",
     "library": "var_list.py",
     "varRefreshCmd": "print(var_dic_list())"
    },
    "r": {
     "delete_cmd_postfix": ") ",
     "delete_cmd_prefix": "rm(",
     "library": "var_list.r",
     "varRefreshCmd": "cat(var_dic_list()) "
    }
   },
   "position": {
    "height": "437.85px",
    "left": "1550px",
    "right": "20px",
    "top": "120px",
    "width": "350px"
   },
   "types_to_exclude": [
    "module",
    "function",
    "builtin_function_or_method",
    "instance",
    "_Feature"
   ],
   "window_display": true
  }
 },
 "nbformat": 4,
 "nbformat_minor": 5
}
