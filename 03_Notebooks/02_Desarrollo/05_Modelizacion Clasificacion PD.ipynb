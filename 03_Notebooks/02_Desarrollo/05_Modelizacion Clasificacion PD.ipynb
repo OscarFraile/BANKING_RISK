{
 "cells": [
  {
   "cell_type": "markdown",
   "id": "46ea6cf4",
   "metadata": {},
   "source": [
    "# MODELIZACIÓN CLASIFICACIÓN PROBABILITY OF DEFAULT"
   ]
  },
  {
   "cell_type": "markdown",
   "id": "e50b1d78",
   "metadata": {},
   "source": [
    "## IMPORTAR PAQUETES"
   ]
  },
  {
   "cell_type": "code",
   "execution_count": 1,
   "id": "25ad67d8",
   "metadata": {},
   "outputs": [],
   "source": [
    "import numpy as np\n",
    "import pandas as pd\n",
    "import matplotlib.pyplot as plt\n",
    "%matplotlib inline\n",
    "\n",
    "from sklearn.model_selection import train_test_split\n",
    "\n",
    "from sklearn.linear_model import LogisticRegression\n",
    "from sklearn.pipeline import Pipeline\n",
    "\n",
    "from sklearn.model_selection import GridSearchCV\n",
    "\n",
    "from sklearn.metrics import roc_auc_score\n",
    "from sklearn.metrics import confusion_matrix\n",
    "from sklearn.metrics import ConfusionMatrixDisplay\n",
    "from sklearn.metrics import classification_report\n",
    "\n",
    "from sklearn.metrics import RocCurveDisplay\n",
    "import scikitplot as skplt\n",
    "from yellowbrick.classifier import discrimination_threshold\n",
    "\n",
    "#Autocompletar rápido\n",
    "%config IPCompleter.greedy=True\n",
    "\n",
    "#Desactivar la notación científica\n",
    "pd.options.display.float_format = '{:.2f}'.format\n",
    "\n",
    "#Desactivar los warnings\n",
    "import warnings\n",
    "warnings.filterwarnings(\"ignore\")"
   ]
  },
  {
   "cell_type": "markdown",
   "id": "62d01afc",
   "metadata": {},
   "source": [
    "## IMPORTAR LOS DATOS"
   ]
  },
  {
   "cell_type": "markdown",
   "id": "a63447de",
   "metadata": {},
   "source": [
    "Sustituir la ruta del proyecto."
   ]
  },
  {
   "cell_type": "code",
   "execution_count": 4,
   "id": "b8f65e71",
   "metadata": {},
   "outputs": [],
   "source": [
    "ruta_proyecto = 'C:/Users/Oscar/OneDrive - FM4/Escritorio/Python Data Mastery/EstructuraDirectorio/03_MACHINE_LEARNING/08_CASOS/003_RIESGOS'"
   ]
  },
  {
   "cell_type": "markdown",
   "id": "fe7ff95a",
   "metadata": {},
   "source": [
    "Nombres de los ficheros de datos."
   ]
  },
  {
   "cell_type": "code",
   "execution_count": 5,
   "id": "ab042baf",
   "metadata": {},
   "outputs": [],
   "source": [
    "nombre = 'df_tablon_pd.pickle'"
   ]
  },
  {
   "cell_type": "markdown",
   "id": "9a61f912",
   "metadata": {},
   "source": [
    "Cargar los datos."
   ]
  },
  {
   "cell_type": "code",
   "execution_count": 6,
   "id": "2391e66e",
   "metadata": {},
   "outputs": [],
   "source": [
    "df = pd.read_pickle(ruta_proyecto + '/02_Datos/03_Trabajo/' + nombre)"
   ]
  },
  {
   "cell_type": "code",
   "execution_count": 7,
   "id": "0a29ea91",
   "metadata": {},
   "outputs": [],
   "source": [
    "x = df.drop(columns='target_pd')\n",
    "y = df.target_pd"
   ]
  },
  {
   "cell_type": "code",
   "execution_count": 36,
   "id": "0467498d",
   "metadata": {},
   "outputs": [],
   "source": [
    "x = x.drop(index=53664762)"
   ]
  },
  {
   "cell_type": "code",
   "execution_count": 39,
   "id": "2d03dcc7",
   "metadata": {},
   "outputs": [],
   "source": [
    "y = y.drop(index=53664762)"
   ]
  },
  {
   "cell_type": "code",
   "execution_count": 40,
   "id": "490b15b3",
   "metadata": {},
   "outputs": [
    {
     "data": {
      "text/plain": [
       "0"
      ]
     },
     "execution_count": 40,
     "metadata": {},
     "output_type": "execute_result"
    }
   ],
   "source": [
    "y.isna().sum()"
   ]
  },
  {
   "cell_type": "markdown",
   "id": "4c0583ae",
   "metadata": {},
   "source": [
    "## MODELIZAR"
   ]
  },
  {
   "cell_type": "markdown",
   "id": "75803418",
   "metadata": {},
   "source": [
    "### Reservar el dataset de validacion"
   ]
  },
  {
   "cell_type": "code",
   "execution_count": 41,
   "id": "1060dcf1",
   "metadata": {},
   "outputs": [],
   "source": [
    "train_x,val_x,train_y,val_y = train_test_split(x,y,test_size=0.3)"
   ]
  },
  {
   "cell_type": "markdown",
   "id": "9f441466",
   "metadata": {},
   "source": [
    "### Crear el pipe y el diccionario de algorimos, parámetros y valores a testar"
   ]
  },
  {
   "cell_type": "markdown",
   "id": "931606fe",
   "metadata": {},
   "source": [
    "Modificar para dejar solo los algoritmos que se quieran testar. \n",
    "\n",
    "En riesgos bancarios se suele usar la Regresión Logística porque uno de las características que debe tener la predicción por normativa es que debe ser explicable y, por tanto, no podemos usar algoritmos de caja negra\n",
    "\n",
    "Modificar los parámetros:\n",
    "\n",
    "* No se hace preselección de variables por lo que se ha hecho una regularización tipo LASSO que hace una especie de preselección llevándose a cero todas las variables que puede y prediciendo con el resto. Ej: De las 50 variables, hace cero 20 y predice con las 30 restantes"
   ]
  },
  {
   "cell_type": "code",
   "execution_count": 42,
   "id": "7404c92c",
   "metadata": {},
   "outputs": [],
   "source": [
    "pipe = Pipeline([('algoritmo',LogisticRegression(solver = 'saga', n_jobs=-1))])\n",
    "\n",
    "\n",
    "grid = [\n",
    "    # Penalty elasticnet (necesita l1_ratio)\n",
    "    {\n",
    "        'algoritmo__penalty': ['elasticnet'],\n",
    "        'algoritmo__C': [0.01, 0.25, 0.5, 0.75, 1.0],\n",
    "        'algoritmo__l1_ratio': [0.1, 0.5, 0.9]\n",
    "    },\n",
    "    # Penalty l1\n",
    "    {\n",
    "        'algoritmo__penalty': ['l1'],\n",
    "        'algoritmo__C': [0.01, 0.25, 0.5, 0.75, 1.0]\n",
    "    },\n",
    "    # Penalty l2\n",
    "    {\n",
    "        'algoritmo__penalty': ['l2'],\n",
    "        'algoritmo__C': [0.01, 0.25, 0.5, 0.75, 1.0]\n",
    "    }\n",
    "     ]\n",
    "\n",
    "#algoritmo__penalty\n",
    "    #'l1' Regularización tipo LASSO\n",
    "    #'l2' Regularización grid regression\n",
    "    #'elasticnet' Regulación híbrida entre l1 y l2 que optimiza el proceso. Coódigo escrito por separado por necesita\n",
    "    #'l1_ratio'\n",
    "\n",
    "#algoritmo__C cuanta fuerza le vamos a dar al parámetro de la regularización. Max fuerza = 0.1"
   ]
  },
  {
   "cell_type": "markdown",
   "id": "1940833c",
   "metadata": {},
   "source": [
    "### Optimizar los hiper parámetros"
   ]
  },
  {
   "cell_type": "markdown",
   "id": "3f10edc4",
   "metadata": {},
   "source": [
    "Elegir si se quiere usar grid search o random search.\n",
    "\n",
    "Comentar la opción que no se vaya a usar."
   ]
  },
  {
   "cell_type": "markdown",
   "id": "5e2c3f40",
   "metadata": {},
   "source": [
    "####  Con grid search"
   ]
  },
  {
   "cell_type": "code",
   "execution_count": 43,
   "id": "5a63ad64",
   "metadata": {
    "scrolled": true
   },
   "outputs": [],
   "source": [
    "grid_search = GridSearchCV(estimator= pipe, \n",
    "                           param_grid = grid, \n",
    "                           cv = 5, \n",
    "                           scoring = 'roc_auc',\n",
    "                           verbose = 0,\n",
    "                           n_jobs = -1)\n",
    "\n",
    "modelo = grid_search.fit(train_x,train_y)"
   ]
  },
  {
   "cell_type": "code",
   "execution_count": 44,
   "id": "dfa2a1e2",
   "metadata": {},
   "outputs": [
    {
     "data": {
      "text/html": [
       "<div>\n",
       "<style scoped>\n",
       "    .dataframe tbody tr th:only-of-type {\n",
       "        vertical-align: middle;\n",
       "    }\n",
       "\n",
       "    .dataframe tbody tr th {\n",
       "        vertical-align: top;\n",
       "    }\n",
       "\n",
       "    .dataframe thead th {\n",
       "        text-align: right;\n",
       "    }\n",
       "</style>\n",
       "<table border=\"1\" class=\"dataframe\">\n",
       "  <thead>\n",
       "    <tr style=\"text-align: right;\">\n",
       "      <th></th>\n",
       "      <th>mean_fit_time</th>\n",
       "      <th>std_fit_time</th>\n",
       "      <th>mean_score_time</th>\n",
       "      <th>std_score_time</th>\n",
       "      <th>param_algoritmo__C</th>\n",
       "      <th>param_algoritmo__l1_ratio</th>\n",
       "      <th>param_algoritmo__penalty</th>\n",
       "      <th>params</th>\n",
       "      <th>split0_test_score</th>\n",
       "      <th>split1_test_score</th>\n",
       "      <th>split2_test_score</th>\n",
       "      <th>split3_test_score</th>\n",
       "      <th>split4_test_score</th>\n",
       "      <th>mean_test_score</th>\n",
       "      <th>std_test_score</th>\n",
       "      <th>rank_test_score</th>\n",
       "    </tr>\n",
       "  </thead>\n",
       "  <tbody>\n",
       "    <tr>\n",
       "      <th>0</th>\n",
       "      <td>11.33</td>\n",
       "      <td>0.09</td>\n",
       "      <td>0.02</td>\n",
       "      <td>0.00</td>\n",
       "      <td>1.00</td>\n",
       "      <td>NaN</td>\n",
       "      <td>l1</td>\n",
       "      <td>{'algoritmo__C': 1.0, 'algoritmo__penalty': 'l1'}</td>\n",
       "      <td>0.89</td>\n",
       "      <td>0.89</td>\n",
       "      <td>0.89</td>\n",
       "      <td>0.88</td>\n",
       "      <td>0.88</td>\n",
       "      <td>0.88</td>\n",
       "      <td>0.00</td>\n",
       "      <td>1</td>\n",
       "    </tr>\n",
       "    <tr>\n",
       "      <th>1</th>\n",
       "      <td>11.22</td>\n",
       "      <td>0.03</td>\n",
       "      <td>0.02</td>\n",
       "      <td>0.00</td>\n",
       "      <td>0.75</td>\n",
       "      <td>NaN</td>\n",
       "      <td>l1</td>\n",
       "      <td>{'algoritmo__C': 0.75, 'algoritmo__penalty': '...</td>\n",
       "      <td>0.89</td>\n",
       "      <td>0.89</td>\n",
       "      <td>0.89</td>\n",
       "      <td>0.88</td>\n",
       "      <td>0.88</td>\n",
       "      <td>0.88</td>\n",
       "      <td>0.00</td>\n",
       "      <td>2</td>\n",
       "    </tr>\n",
       "    <tr>\n",
       "      <th>2</th>\n",
       "      <td>11.14</td>\n",
       "      <td>0.04</td>\n",
       "      <td>0.02</td>\n",
       "      <td>0.00</td>\n",
       "      <td>0.50</td>\n",
       "      <td>NaN</td>\n",
       "      <td>l1</td>\n",
       "      <td>{'algoritmo__C': 0.5, 'algoritmo__penalty': 'l1'}</td>\n",
       "      <td>0.89</td>\n",
       "      <td>0.89</td>\n",
       "      <td>0.89</td>\n",
       "      <td>0.88</td>\n",
       "      <td>0.88</td>\n",
       "      <td>0.88</td>\n",
       "      <td>0.00</td>\n",
       "      <td>3</td>\n",
       "    </tr>\n",
       "    <tr>\n",
       "      <th>3</th>\n",
       "      <td>11.06</td>\n",
       "      <td>0.08</td>\n",
       "      <td>0.02</td>\n",
       "      <td>0.00</td>\n",
       "      <td>1.00</td>\n",
       "      <td>0.90</td>\n",
       "      <td>elasticnet</td>\n",
       "      <td>{'algoritmo__C': 1.0, 'algoritmo__l1_ratio': 0...</td>\n",
       "      <td>0.89</td>\n",
       "      <td>0.88</td>\n",
       "      <td>0.89</td>\n",
       "      <td>0.88</td>\n",
       "      <td>0.88</td>\n",
       "      <td>0.88</td>\n",
       "      <td>0.00</td>\n",
       "      <td>4</td>\n",
       "    </tr>\n",
       "    <tr>\n",
       "      <th>4</th>\n",
       "      <td>10.90</td>\n",
       "      <td>0.11</td>\n",
       "      <td>0.01</td>\n",
       "      <td>0.00</td>\n",
       "      <td>0.75</td>\n",
       "      <td>0.90</td>\n",
       "      <td>elasticnet</td>\n",
       "      <td>{'algoritmo__C': 0.75, 'algoritmo__l1_ratio': ...</td>\n",
       "      <td>0.89</td>\n",
       "      <td>0.88</td>\n",
       "      <td>0.89</td>\n",
       "      <td>0.88</td>\n",
       "      <td>0.88</td>\n",
       "      <td>0.88</td>\n",
       "      <td>0.00</td>\n",
       "      <td>5</td>\n",
       "    </tr>\n",
       "  </tbody>\n",
       "</table>\n",
       "</div>"
      ],
      "text/plain": [
       "   mean_fit_time  std_fit_time  mean_score_time  std_score_time  \\\n",
       "0          11.33          0.09             0.02            0.00   \n",
       "1          11.22          0.03             0.02            0.00   \n",
       "2          11.14          0.04             0.02            0.00   \n",
       "3          11.06          0.08             0.02            0.00   \n",
       "4          10.90          0.11             0.01            0.00   \n",
       "\n",
       "  param_algoritmo__C param_algoritmo__l1_ratio param_algoritmo__penalty  \\\n",
       "0               1.00                       NaN                       l1   \n",
       "1               0.75                       NaN                       l1   \n",
       "2               0.50                       NaN                       l1   \n",
       "3               1.00                      0.90               elasticnet   \n",
       "4               0.75                      0.90               elasticnet   \n",
       "\n",
       "                                              params  split0_test_score  \\\n",
       "0  {'algoritmo__C': 1.0, 'algoritmo__penalty': 'l1'}               0.89   \n",
       "1  {'algoritmo__C': 0.75, 'algoritmo__penalty': '...               0.89   \n",
       "2  {'algoritmo__C': 0.5, 'algoritmo__penalty': 'l1'}               0.89   \n",
       "3  {'algoritmo__C': 1.0, 'algoritmo__l1_ratio': 0...               0.89   \n",
       "4  {'algoritmo__C': 0.75, 'algoritmo__l1_ratio': ...               0.89   \n",
       "\n",
       "   split1_test_score  split2_test_score  split3_test_score  split4_test_score  \\\n",
       "0               0.89               0.89               0.88               0.88   \n",
       "1               0.89               0.89               0.88               0.88   \n",
       "2               0.89               0.89               0.88               0.88   \n",
       "3               0.88               0.89               0.88               0.88   \n",
       "4               0.88               0.89               0.88               0.88   \n",
       "\n",
       "   mean_test_score  std_test_score  rank_test_score  \n",
       "0             0.88            0.00                1  \n",
       "1             0.88            0.00                2  \n",
       "2             0.88            0.00                3  \n",
       "3             0.88            0.00                4  \n",
       "4             0.88            0.00                5  "
      ]
     },
     "execution_count": 44,
     "metadata": {},
     "output_type": "execute_result"
    }
   ],
   "source": [
    "salida = pd.DataFrame(grid_search.cv_results_).sort_values(by = 'rank_test_score').reset_index(drop=True).head(5)\n",
    "salida"
   ]
  },
  {
   "cell_type": "markdown",
   "id": "fe472fc0",
   "metadata": {},
   "source": [
    "Vemos que el resultados del auc es el mismo en todas las primeras configuraciones.\n",
    "\n",
    "Y reentreamos el modelo con esa configuración."
   ]
  },
  {
   "cell_type": "code",
   "execution_count": 45,
   "id": "dfd0f1fe",
   "metadata": {},
   "outputs": [
    {
     "data": {
      "text/html": [
       "<style>#sk-container-id-1 {color: black;}#sk-container-id-1 pre{padding: 0;}#sk-container-id-1 div.sk-toggleable {background-color: white;}#sk-container-id-1 label.sk-toggleable__label {cursor: pointer;display: block;width: 100%;margin-bottom: 0;padding: 0.3em;box-sizing: border-box;text-align: center;}#sk-container-id-1 label.sk-toggleable__label-arrow:before {content: \"▸\";float: left;margin-right: 0.25em;color: #696969;}#sk-container-id-1 label.sk-toggleable__label-arrow:hover:before {color: black;}#sk-container-id-1 div.sk-estimator:hover label.sk-toggleable__label-arrow:before {color: black;}#sk-container-id-1 div.sk-toggleable__content {max-height: 0;max-width: 0;overflow: hidden;text-align: left;background-color: #f0f8ff;}#sk-container-id-1 div.sk-toggleable__content pre {margin: 0.2em;color: black;border-radius: 0.25em;background-color: #f0f8ff;}#sk-container-id-1 input.sk-toggleable__control:checked~div.sk-toggleable__content {max-height: 200px;max-width: 100%;overflow: auto;}#sk-container-id-1 input.sk-toggleable__control:checked~label.sk-toggleable__label-arrow:before {content: \"▾\";}#sk-container-id-1 div.sk-estimator input.sk-toggleable__control:checked~label.sk-toggleable__label {background-color: #d4ebff;}#sk-container-id-1 div.sk-label input.sk-toggleable__control:checked~label.sk-toggleable__label {background-color: #d4ebff;}#sk-container-id-1 input.sk-hidden--visually {border: 0;clip: rect(1px 1px 1px 1px);clip: rect(1px, 1px, 1px, 1px);height: 1px;margin: -1px;overflow: hidden;padding: 0;position: absolute;width: 1px;}#sk-container-id-1 div.sk-estimator {font-family: monospace;background-color: #f0f8ff;border: 1px dotted black;border-radius: 0.25em;box-sizing: border-box;margin-bottom: 0.5em;}#sk-container-id-1 div.sk-estimator:hover {background-color: #d4ebff;}#sk-container-id-1 div.sk-parallel-item::after {content: \"\";width: 100%;border-bottom: 1px solid gray;flex-grow: 1;}#sk-container-id-1 div.sk-label:hover label.sk-toggleable__label {background-color: #d4ebff;}#sk-container-id-1 div.sk-serial::before {content: \"\";position: absolute;border-left: 1px solid gray;box-sizing: border-box;top: 0;bottom: 0;left: 50%;z-index: 0;}#sk-container-id-1 div.sk-serial {display: flex;flex-direction: column;align-items: center;background-color: white;padding-right: 0.2em;padding-left: 0.2em;position: relative;}#sk-container-id-1 div.sk-item {position: relative;z-index: 1;}#sk-container-id-1 div.sk-parallel {display: flex;align-items: stretch;justify-content: center;background-color: white;position: relative;}#sk-container-id-1 div.sk-item::before, #sk-container-id-1 div.sk-parallel-item::before {content: \"\";position: absolute;border-left: 1px solid gray;box-sizing: border-box;top: 0;bottom: 0;left: 50%;z-index: -1;}#sk-container-id-1 div.sk-parallel-item {display: flex;flex-direction: column;z-index: 1;position: relative;background-color: white;}#sk-container-id-1 div.sk-parallel-item:first-child::after {align-self: flex-end;width: 50%;}#sk-container-id-1 div.sk-parallel-item:last-child::after {align-self: flex-start;width: 50%;}#sk-container-id-1 div.sk-parallel-item:only-child::after {width: 0;}#sk-container-id-1 div.sk-dashed-wrapped {border: 1px dashed gray;margin: 0 0.4em 0.5em 0.4em;box-sizing: border-box;padding-bottom: 0.4em;background-color: white;}#sk-container-id-1 div.sk-label label {font-family: monospace;font-weight: bold;display: inline-block;line-height: 1.2em;}#sk-container-id-1 div.sk-label-container {text-align: center;}#sk-container-id-1 div.sk-container {/* jupyter's `normalize.less` sets `[hidden] { display: none; }` but bootstrap.min.css set `[hidden] { display: none !important; }` so we also need the `!important` here to be able to override the default hidden behavior on the sphinx rendered scikit-learn.org. See: https://github.com/scikit-learn/scikit-learn/issues/21755 */display: inline-block !important;position: relative;}#sk-container-id-1 div.sk-text-repr-fallback {display: none;}</style><div id=\"sk-container-id-1\" class=\"sk-top-container\"><div class=\"sk-text-repr-fallback\"><pre>LogisticRegression(C=1, n_jobs=-1, penalty=&#x27;l1&#x27;, solver=&#x27;saga&#x27;)</pre><b>In a Jupyter environment, please rerun this cell to show the HTML representation or trust the notebook. <br />On GitHub, the HTML representation is unable to render, please try loading this page with nbviewer.org.</b></div><div class=\"sk-container\" hidden><div class=\"sk-item\"><div class=\"sk-estimator sk-toggleable\"><input class=\"sk-toggleable__control sk-hidden--visually\" id=\"sk-estimator-id-1\" type=\"checkbox\" checked><label for=\"sk-estimator-id-1\" class=\"sk-toggleable__label sk-toggleable__label-arrow\">LogisticRegression</label><div class=\"sk-toggleable__content\"><pre>LogisticRegression(C=1, n_jobs=-1, penalty=&#x27;l1&#x27;, solver=&#x27;saga&#x27;)</pre></div></div></div></div></div>"
      ],
      "text/plain": [
       "LogisticRegression(C=1, n_jobs=-1, penalty='l1', solver='saga')"
      ]
     },
     "execution_count": 45,
     "metadata": {},
     "output_type": "execute_result"
    }
   ],
   "source": [
    "#Instanciar\n",
    "rl = LogisticRegression(solver = 'saga', n_jobs=-1, C = 1, penalty = 'l1')\n",
    "\n",
    "#Entrenar\n",
    "rl.fit(train_x,train_y)"
   ]
  },
  {
   "cell_type": "markdown",
   "id": "1f9a1673",
   "metadata": {},
   "source": [
    "Podemos revisar los coefecientes para ver los que son cero y las variables más importantes."
   ]
  },
  {
   "cell_type": "code",
   "execution_count": 47,
   "id": "3f29f4c7",
   "metadata": {},
   "outputs": [
    {
     "data": {
      "text/plain": [
       "num_meses_desde_ult_retraso_mms        -19.04\n",
       "num_cancelaciones_12meses_mms           -3.38\n",
       "num_hipotecas_mms                       -2.46\n",
       "tipo_interes_mms                        -2.25\n",
       "ingresos_mms                            -1.82\n",
       "principal_mms                           -0.27\n",
       "num_cuotas_ 36 months                   -0.24\n",
       "ingresos_verificados_Not Verified       -0.21\n",
       "finalidad_other                         -0.13\n",
       "finalidad_house                         -0.11\n",
       "vivienda_MORTGAGE                       -0.06\n",
       "finalidad_otros                         -0.02\n",
       "antiguedad_empleo_oe                    -0.01\n",
       "finalidad_home_improvement              -0.01\n",
       "finalidad_credit_card                   -0.00\n",
       "finalidad_debt_consolidation            -0.00\n",
       "ingresos_verificados_Source Verified     0.00\n",
       "vivienda_OWN                             0.00\n",
       "finalidad_vacation                       0.00\n",
       "cat_tarjetas_75p_oe_mms                  0.00\n",
       "rating_oe_mms                            0.00\n",
       "antiguedad_empleo_oe_mms                 0.00\n",
       "num_cuotas_ 60 months                    0.00\n",
       "finalidad_car                            0.05\n",
       "cat_tarjetas_75p_oe                      0.07\n",
       "porc_tarjetas_75p_mms                    0.09\n",
       "finalidad_medical                        0.10\n",
       "finalidad_major_purchase                 0.10\n",
       "finalidad_moving                         0.16\n",
       "ingresos_verificados_Verified            0.17\n",
       "finalidad_small_business                 0.18\n",
       "vivienda_RENT                            0.19\n",
       "num_derogatorios_bin                     0.36\n",
       "porc_uso_revolving_mms                   0.40\n",
       "dti_mms                                  0.41\n",
       "rating_oe                                0.63\n",
       "imp_cuota_mms                            1.04\n",
       "num_lineas_credito_mms                   1.05\n",
       "dtype: float64"
      ]
     },
     "execution_count": 47,
     "metadata": {},
     "output_type": "execute_result"
    }
   ],
   "source": [
    "coeficientes = pd.DataFrame(data = rl.coef_, columns = rl.feature_names_in_).stack().droplevel(level = 0).sort_values()\n",
    "coeficientes\n",
    "\n",
    "#Los signos negativos dicen que a menor valor de la variable, mayor es la probabilidad de defaul (impago) y viceversa\n",
    "#Ej. num_meses_desde_ult_retraso cuanto mayor es el numero de meses desde el último retraso, menor probabilidad de default\n",
    "#Esto tiene sentido porque si un cliente no ha fallado en 70 meses de pagos, es menos probable que deje de pagar que si\n",
    "#falla cada 4 meses en sus pagos"
   ]
  },
  {
   "cell_type": "markdown",
   "id": "8719bc82",
   "metadata": {},
   "source": [
    "**IMPORTANTE**\n",
    "\n",
    "Vemos cosas raras como que el signo del principal y del tipo de interés son negativos.\n",
    "\n",
    "Es decir, según el modelo, cuanto menos importe pidas mayor es el riesgo de default.\n",
    "\n",
    "O cuanto menor es el tipo de interés aplicado mayor es el riesgo de default.\n",
    "\n",
    "En una situación real podría pasar, pero al menos se necesitaría una explicación convincente. \n",
    "\n",
    "Nosotros aquí lo daremos por bueno y continuamos."
   ]
  },
  {
   "cell_type": "markdown",
   "id": "42898c20",
   "metadata": {},
   "source": [
    "## EVALUAR"
   ]
  },
  {
   "cell_type": "markdown",
   "id": "802ff195",
   "metadata": {},
   "source": [
    "### Predecir sobre validación"
   ]
  },
  {
   "cell_type": "code",
   "execution_count": 48,
   "id": "2730773e",
   "metadata": {},
   "outputs": [],
   "source": [
    "pred = rl.predict_proba(val_x)[:, 1]"
   ]
  },
  {
   "cell_type": "markdown",
   "id": "56307cb6",
   "metadata": {},
   "source": [
    "### Evaluar sobre validación"
   ]
  },
  {
   "cell_type": "code",
   "execution_count": 49,
   "id": "cee185ba",
   "metadata": {},
   "outputs": [
    {
     "data": {
      "text/plain": [
       "0.8812112485889152"
      ]
     },
     "execution_count": 49,
     "metadata": {},
     "output_type": "execute_result"
    }
   ],
   "source": [
    "roc_auc_score(val_y, pred)"
   ]
  },
  {
   "cell_type": "markdown",
   "id": "c787de93",
   "metadata": {},
   "source": [
    "## REPORTING DEL MODELO"
   ]
  },
  {
   "cell_type": "markdown",
   "id": "4fcbedf8",
   "metadata": {},
   "source": [
    "### Gain Chart"
   ]
  },
  {
   "cell_type": "code",
   "execution_count": 50,
   "id": "ac1ccdb1",
   "metadata": {},
   "outputs": [
    {
     "data": {
      "image/png": "[encoded data removed]",
      "text/plain": [
       "<Figure size 800x550 with 1 Axes>"
      ]
     },
     "metadata": {},
     "output_type": "display_data"
    }
   ],
   "source": [
    "fig, ax = plt.subplots()\n",
    "\n",
    "skplt.metrics.plot_cumulative_gain(val_y, modelo.best_estimator_.predict_proba(val_x), ax=ax) \n",
    "\n",
    "# Eliminamos la línea de los ceros, que internamente tiene etiqueta 'Class 0'\n",
    "lines = ax.get_lines()\n",
    "# Buscar por la etiqueta y eliminar la línea correspondiente\n",
    "for line in lines:\n",
    "    if line.get_label() == 'Class 0':\n",
    "        line.remove()\n",
    "\n",
    "# Personalizamos la leyenda sin incluir la línea de los ceros\n",
    "plt.legend(labels=['Modelo'])\n",
    "\n",
    "# Ahora puedes mostrar el gráfico\n",
    "plt.show()"
   ]
  },
  {
   "cell_type": "markdown",
   "id": "81e55f3f",
   "metadata": {},
   "source": [
    "### Lift Chart"
   ]
  },
  {
   "cell_type": "code",
   "execution_count": 53,
   "id": "4f9e4ceb",
   "metadata": {},
   "outputs": [
    {
     "data": {
      "image/png": "[encoded data removed]",
      "text/plain": [
       "<Figure size 800x550 with 1 Axes>"
      ]
     },
     "metadata": {},
     "output_type": "display_data"
    }
   ],
   "source": [
    "fig, ax = plt.subplots()\n",
    "\n",
    "skplt.metrics.plot_lift_curve(val_y, modelo.best_estimator_.predict_proba(val_x), ax=ax) \n",
    "\n",
    "# Eliminamos la línea de los ceros, que internamente tiene etiqueta 'Class 0'\n",
    "lines = ax.get_lines()\n",
    "# Buscar por la etiqueta y eliminar la línea correspondiente\n",
    "for line in lines:\n",
    "    if line.get_label() == 'Class 0':\n",
    "        line.remove()\n",
    "\n",
    "# Personalizamos la leyenda sin incluir la línea de los ceros\n",
    "plt.legend(labels=['Modelo'])\n",
    "\n",
    "# Ahora puedes mostrar el gráfico\n",
    "plt.show()"
   ]
  },
  {
   "cell_type": "markdown",
   "id": "5b49ec12",
   "metadata": {},
   "source": [
    "### ROC Chart"
   ]
  },
  {
   "cell_type": "code",
   "execution_count": 54,
   "id": "d1ddc92c",
   "metadata": {},
   "outputs": [
    {
     "data": {
      "image/png": "[encoded data removed]",
      "text/plain": [
       "<Figure size 800x550 with 1 Axes>"
      ]
     },
     "metadata": {},
     "output_type": "display_data"
    }
   ],
   "source": [
    "fig, ax = plt.subplots()\n",
    "\n",
    "# Generamos la gráfica ROC\n",
    "skplt.metrics.plot_roc(val_y, modelo.best_estimator_.predict_proba(val_x), ax=ax)\n",
    "\n",
    "# Obtenemos todas las líneas y las leyendas\n",
    "lines = ax.get_lines()\n",
    "\n",
    "# Recorremos las líneas para eliminar las no deseadas, excepto la línea de la clase 0\n",
    "for line in lines:\n",
    "    if 'ROC curve of class 0' in line.get_label():\n",
    "        line.set_label('Modelo')\n",
    "    elif line.get_linestyle() != '--':  # Mantenemos la línea punteada pero sin leyenda\n",
    "        line.set_visible(False)\n",
    "\n",
    "# Solo añadimos al leyenda la línea de la clase 0 renombrada a 'Modelo'\n",
    "handles, labels = ax.get_legend_handles_labels()\n",
    "new_handles = [h for h, l in zip(handles, labels) if l == 'Modelo']\n",
    "new_labels = ['Modelo']\n",
    "\n",
    "ax.legend(new_handles, new_labels, loc='best')\n",
    "\n",
    "# Ahora puedes mostrar el gráfico\n",
    "plt.show();"
   ]
  },
  {
   "cell_type": "code",
   "execution_count": null,
   "id": "c7a4bda5",
   "metadata": {},
   "outputs": [],
   "source": []
  }
 ],
 "metadata": {
  "kernelspec": {
   "display_name": "Python 3 (ipykernel)",
   "language": "python",
   "name": "python3"
  },
  "language_info": {
   "codemirror_mode": {
    "name": "ipython",
    "version": 3
   },
   "file_extension": ".py",
   "mimetype": "text/x-python",
   "name": "python",
   "nbconvert_exporter": "python",
   "pygments_lexer": "ipython3",
   "version": "3.11.11"
  },
  "toc": {
   "base_numbering": 1,
   "nav_menu": {},
   "number_sections": true,
   "sideBar": true,
   "skip_h1_title": false,
   "title_cell": "Table of Contents",
   "title_sidebar": "Contents",
   "toc_cell": false,
   "toc_position": {
    "height": "calc(100% - 180px)",
    "left": "10px",
    "top": "150px",
    "width": "253.95px"
   },
   "toc_section_display": true,
   "toc_window_display": false
  },
  "varInspector": {
   "cols": {
    "lenName": 16,
    "lenType": 16,
    "lenVar": 40
   },
   "kernels_config": {
    "python": {
     "delete_cmd_postfix": "",
     "delete_cmd_prefix": "del ",
     "library": "var_list.py",
     "varRefreshCmd": "print(var_dic_list())"
    },
    "r": {
     "delete_cmd_postfix": ") ",
     "delete_cmd_prefix": "rm(",
     "library": "var_list.r",
     "varRefreshCmd": "cat(var_dic_list()) "
    }
   },
   "position": {
    "height": "546.85px",
    "left": "1531.75px",
    "right": "20px",
    "top": "115px",
    "width": "350px"
   },
   "types_to_exclude": [
    "module",
    "function",
    "builtin_function_or_method",
    "instance",
    "_Feature"
   ],
   "window_display": true
  }
 },
 "nbformat": 4,
 "nbformat_minor": 5
}
